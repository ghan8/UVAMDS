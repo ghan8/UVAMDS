{
 "cells": [
  {
   "cell_type": "markdown",
   "id": "66acab95",
   "metadata": {},
   "source": [
    "## Exercise form tech bootcamp "
   ]
  },
  {
   "cell_type": "markdown",
   "id": "105e2235",
   "metadata": {},
   "source": [
    "I have three goals here:\n",
    "1. Complete the exercise\n",
    "2. Establish a remote connection to my repo\n",
    "3. Identify repeatable steps to repeat to update repo remotely from .ipynb files"
   ]
  },
  {
   "cell_type": "code",
   "execution_count": 1,
   "id": "3a323038",
   "metadata": {},
   "outputs": [
    {
     "name": "stdout",
     "output_type": "stream",
     "text": [
      "fatal: destination path 'Used-Car-Data' already exists and is not an empty directory.\r\n"
     ]
    }
   ],
   "source": [
    "#clone a parallel github account retained for professional purposes\n",
    "!git clone https://github.com/gdhan8/Used-Car-Data "
   ]
  },
  {
   "cell_type": "markdown",
   "id": "9d52011c",
   "metadata": {},
   "source": [
    "Despite the fatal error about, the output successful but achieved in a previous run"
   ]
  },
  {
   "cell_type": "code",
   "execution_count": 2,
   "id": "2794641e",
   "metadata": {},
   "outputs": [
    {
     "name": "stdout",
     "output_type": "stream",
     "text": [
      "/Users/gdhan/Documents/Data Science/Python\r\n"
     ]
    }
   ],
   "source": [
    "#pass this through to see current working directory\n",
    "!pwd "
   ]
  },
  {
   "cell_type": "code",
   "execution_count": 3,
   "id": "368e8747",
   "metadata": {},
   "outputs": [
    {
     "name": "stdout",
     "output_type": "stream",
     "text": [
      "\u001b[34m.\u001b[m\u001b[m\r\n",
      "\u001b[34m..\u001b[m\u001b[m\r\n",
      ".DS_Store\r\n",
      "\u001b[34m.git\u001b[m\u001b[m\r\n",
      "\u001b[34m.ipynb_checkpoints\u001b[m\u001b[m\r\n",
      "\u001b[34mConflict Data Project\u001b[m\u001b[m\r\n",
      "Git Tutorial CLI Fundamentals.ipynb\r\n",
      "Importing Data in Python - Datacamp.py\r\n",
      "Intermediate Python - Datacamp.py\r\n",
      "LICENSE\r\n",
      "Monte Carlo Simulation.ipynb\r\n",
      "Python Data Science Toolbox - Datacamp.ipynb\r\n",
      "README.md\r\n",
      "\u001b[34mUsed-Car-Data\u001b[m\u001b[m\r\n",
      "foo.txt\r\n",
      "markdown-cheat-sheet.md\r\n"
     ]
    }
   ],
   "source": [
    "#display the files currently in the working directory,\n",
    "!ls -a"
   ]
  },
  {
   "cell_type": "markdown",
   "id": "a7202f3d",
   "metadata": {},
   "source": [
    "The clone is present locally, \"Used-Car-Data\", created foo.txt is also present"
   ]
  },
  {
   "cell_type": "code",
   "execution_count": 4,
   "id": "cb5297ef",
   "metadata": {},
   "outputs": [],
   "source": [
    "!open .git "
   ]
  },
  {
   "cell_type": "markdown",
   "id": "63d066ca",
   "metadata": {},
   "source": [
    "Through the finder (on mac)  you can see the file structure of the .git file. I made some errors in git syntax which created wrongly named remote. Used this command and finder interface to delete the mislabeled remote."
   ]
  },
  {
   "cell_type": "code",
   "execution_count": 5,
   "id": "5f034a83",
   "metadata": {},
   "outputs": [
    {
     "name": "stdout",
     "output_type": "stream",
     "text": [
      "On branch main\r\n",
      "Changes not staged for commit:\r\n",
      "  (use \"git add <file>...\" to update what will be committed)\r\n",
      "  (use \"git restore <file>...\" to discard changes in working directory)\r\n",
      "\t\u001b[31mmodified:   Git Tutorial CLI Fundamentals.ipynb\u001b[m\r\n",
      "\r\n",
      "Untracked files:\r\n",
      "  (use \"git add <file>...\" to include in what will be committed)\r\n",
      "\t\u001b[31m.ipynb_checkpoints/\u001b[m\r\n",
      "\t\u001b[31mConflict Data Project/\u001b[m\r\n",
      "\t\u001b[31mImporting Data in Python - Datacamp.py\u001b[m\r\n",
      "\t\u001b[31mIntermediate Python - Datacamp.py\u001b[m\r\n",
      "\t\u001b[31mMonte Carlo Simulation.ipynb\u001b[m\r\n",
      "\t\u001b[31mPython Data Science Toolbox - Datacamp.ipynb\u001b[m\r\n",
      "\t\u001b[31mUsed-Car-Data/\u001b[m\r\n",
      "\t\u001b[31mmarkdown-cheat-sheet.md\u001b[m\r\n",
      "\r\n",
      "no changes added to commit (use \"git add\" and/or \"git commit -a\")\r\n"
     ]
    }
   ],
   "source": [
    "!git status "
   ]
  },
  {
   "cell_type": "markdown",
   "id": "0dd84e91",
   "metadata": {},
   "source": [
    "Currently my changes to this file are not staged for commit to local.\n",
    "I want the changes to be execute local and on the remote repo. "
   ]
  },
  {
   "cell_type": "code",
   "execution_count": 57,
   "id": "0b1df964",
   "metadata": {},
   "outputs": [
    {
     "name": "stdout",
     "output_type": "stream",
     "text": [
      "\u001b[34mConflict Data Project\u001b[m\u001b[m\n",
      "Git Tutorial CLI Fundamentals.ipynb\n",
      "Importing Data in Python - Datacamp.py\n",
      "Intermediate Python - Datacamp.py\n",
      "LICENSE\n",
      "Monte Carlo Simulation.ipynb\n",
      "Python Data Science Toolbox - Datacamp.ipynb\n",
      "README.md\n",
      "\u001b[34mUsed-Car-Data\u001b[m\u001b[m\n",
      "foo.txt\n",
      "markdown-cheat-sheet.md\n",
      "On branch main\n",
      "Your branch is ahead of 'origin/master' by 2 commits.\n",
      "  (use \"git push\" to publish your local commits)\n",
      "\n",
      "Changes not staged for commit:\n",
      "  (use \"git add <file>...\" to update what will be committed)\n",
      "  (use \"git restore <file>...\" to discard changes in working directory)\n",
      "\t\u001b[31mmodified:   Git Tutorial CLI Fundamentals.ipynb\u001b[m\n",
      "\t\u001b[31mmodified:   foo.txt\u001b[m\n",
      "\n",
      "Untracked files:\n",
      "  (use \"git add <file>...\" to include in what will be committed)\n",
      "\t\u001b[31m.ipynb_checkpoints/\u001b[m\n",
      "\t\u001b[31mConflict Data Project/\u001b[m\n",
      "\t\u001b[31mImporting Data in Python - Datacamp.py\u001b[m\n",
      "\t\u001b[31mIntermediate Python - Datacamp.py\u001b[m\n",
      "\t\u001b[31mMonte Carlo Simulation.ipynb\u001b[m\n",
      "\t\u001b[31mPython Data Science Toolbox - Datacamp.ipynb\u001b[m\n",
      "\t\u001b[31mUsed-Car-Data/\u001b[m\n",
      "\t\u001b[31mmarkdown-cheat-sheet.md\u001b[m\n",
      "\n",
      "no changes added to commit (use \"git add\" and/or \"git commit -a\")\n"
     ]
    }
   ],
   "source": [
    "!echo hello world > foo.txt #create foo.txt\n",
    "!ls\n",
    "!git status"
   ]
  },
  {
   "cell_type": "code",
   "execution_count": 58,
   "id": "8ba8e81c",
   "metadata": {},
   "outputs": [
    {
     "name": "stdout",
     "output_type": "stream",
     "text": [
      "On branch main\r\n",
      "Your branch is ahead of 'origin/master' by 2 commits.\r\n",
      "  (use \"git push\" to publish your local commits)\r\n",
      "\r\n",
      "Changes to be committed:\r\n",
      "  (use \"git restore --staged <file>...\" to unstage)\r\n",
      "\t\u001b[32mmodified:   Git Tutorial CLI Fundamentals.ipynb\u001b[m\r\n",
      "\t\u001b[32mmodified:   foo.txt\u001b[m\r\n",
      "\r\n",
      "Untracked files:\r\n",
      "  (use \"git add <file>...\" to include in what will be committed)\r\n",
      "\t\u001b[31m.ipynb_checkpoints/\u001b[m\r\n",
      "\t\u001b[31mConflict Data Project/\u001b[m\r\n",
      "\t\u001b[31mImporting Data in Python - Datacamp.py\u001b[m\r\n",
      "\t\u001b[31mIntermediate Python - Datacamp.py\u001b[m\r\n",
      "\t\u001b[31mMonte Carlo Simulation.ipynb\u001b[m\r\n",
      "\t\u001b[31mPython Data Science Toolbox - Datacamp.ipynb\u001b[m\r\n",
      "\t\u001b[31mUsed-Car-Data/\u001b[m\r\n",
      "\t\u001b[31mmarkdown-cheat-sheet.md\u001b[m\r\n",
      "\r\n"
     ]
    }
   ],
   "source": [
    "#Attempting to add locally.\n",
    "!git add 'foo.txt' #exercise file\n",
    "!git add 'Git Tutorial CLI Fundamentals.ipynb' #this notebook tutorial\n",
    "!git status"
   ]
  },
  {
   "cell_type": "code",
   "execution_count": 60,
   "id": "cfc953f1",
   "metadata": {},
   "outputs": [
    {
     "name": "stdout",
     "output_type": "stream",
     "text": [
      "[main 916ba81] refining\r\n",
      " 2 files changed, 897 insertions(+), 131 deletions(-)\r\n"
     ]
    }
   ],
   "source": [
    "!git commit -m \"refining\" #use -m to add a message"
   ]
  },
  {
   "cell_type": "code",
   "execution_count": 46,
   "id": "d0c6a0f6",
   "metadata": {},
   "outputs": [
    {
     "name": "stdout",
     "output_type": "stream",
     "text": [
      "fatal: remote origin already exists.\r\n"
     ]
    }
   ],
   "source": [
    "#attempting to connect my new github repo remotely\n",
    "!git remote add origin https://github.com/ghan8/UVAMDS.git "
   ]
  },
  {
   "cell_type": "code",
   "execution_count": 47,
   "id": "74061d84",
   "metadata": {},
   "outputs": [
    {
     "name": "stdout",
     "output_type": "stream",
     "text": [
      "origin\thttps://github.com/ghan8/UVAMDS.git (fetch)\r\n",
      "origin\thttps://github.com/ghan8/UVAMDS.git (push)\r\n"
     ]
    }
   ],
   "source": [
    "!git remote -v "
   ]
  },
  {
   "cell_type": "markdown",
   "id": "c7ea97de",
   "metadata": {},
   "source": [
    "Origin is the name of my remote location."
   ]
  },
  {
   "cell_type": "code",
   "execution_count": 48,
   "id": "b3eee014",
   "metadata": {},
   "outputs": [
    {
     "name": "stdout",
     "output_type": "stream",
     "text": [
      "\u001b[KEnumerating objects: 1, done.\n",
      "\u001b[KCounting objects: 100% (1/1), done.\n",
      "\u001b[KWriting objects: 100% (1/1), 212 bytes | 212.00 KiB/s, done.\n",
      "Total 1 (delta 0), reused 0 (delta 0)\n",
      "To https://github.com/ghan8/UVAMDS.git\n",
      "   1fcc8b4..5fc8d8d  main -> main\n",
      "warning: branch.main.remote has multiple values\n",
      "warning: branch.main.merge has multiple values\n",
      "Branch 'main' set up to track remote branch 'main' from 'https://github.com/ghan8/UVAMDS.git'.\n"
     ]
    }
   ],
   "source": [
    "!git push --set-upstream https://github.com/ghan8/UVAMDS.git \n",
    "    #This feature does not seem to work within the notebook\n",
    "    #however, did have success in connecting with personal access token in terminal\n",
    "    #confirmed by fork present on ghan8 git page.\n",
    "    #this is required for establishing connection to git page. "
   ]
  },
  {
   "cell_type": "code",
   "execution_count": null,
   "id": "99ef4435",
   "metadata": {},
   "outputs": [],
   "source": []
  },
  {
   "cell_type": "code",
   "execution_count": 12,
   "id": "2760ef8b",
   "metadata": {},
   "outputs": [
    {
     "name": "stdout",
     "output_type": "stream",
     "text": [
      "\u001b[KEnumerating objects: 8, done.\n",
      "\u001b[KCounting objects: 100% (8/8), done.\n",
      "Delta compression using up to 4 threads\n",
      "\u001b[KCompressing objects: 100% (6/6), done.\n",
      "\u001b[KWriting objects: 100% (6/6), 3.06 KiB | 782.00 KiB/s, done.\n",
      "Total 6 (delta 4), reused 0 (delta 0)\n",
      "remote: Resolving deltas: 100% (4/4), completed with 2 local objects.\u001b[K\n",
      "To https://github.com/ghan8/UVAMDS.git\n",
      "   4ffb408..55122a7  HEAD -> master\n"
     ]
    }
   ],
   "source": [
    "!git push https://github.com/ghan8/UVAMDS.git HEAD:master\n",
    "        #after theses it somehow worked"
   ]
  },
  {
   "cell_type": "code",
   "execution_count": 13,
   "id": "f6f4ff5e",
   "metadata": {},
   "outputs": [
    {
     "name": "stdout",
     "output_type": "stream",
     "text": [
      "Branch 'master' set up to track remote branch 'master' from 'origin'.\n",
      "Switched to a new branch 'master'\n",
      "Updating 48f4607..55122a7\n",
      "Fast-forward\n",
      " Git Tutorial CLI Fundamentals.ipynb | 901 \u001b[32m++++++++++++++++++++++++++++++++++++\u001b[m\n",
      " LICENSE                             |  21 \u001b[32m+\u001b[m\n",
      " README.md                           |   2 \u001b[32m+\u001b[m\n",
      " 3 files changed, 924 insertions(+)\n",
      " create mode 100644 Git Tutorial CLI Fundamentals.ipynb\n",
      " create mode 100644 LICENSE\n",
      " create mode 100644 README.md\n"
     ]
    }
   ],
   "source": [
    "!git checkout master\n",
    "!git merge main\n",
    "    #after theses it somehow worked"
   ]
  },
  {
   "cell_type": "code",
   "execution_count": 14,
   "id": "acc34e1d",
   "metadata": {},
   "outputs": [
    {
     "name": "stdout",
     "output_type": "stream",
     "text": [
      "fatal: 'main' does not appear to be a git repository\r\n",
      "fatal: Could not read from remote repository.\r\n",
      "\r\n",
      "Please make sure you have the correct access rights\r\n",
      "and the repository exists.\r\n"
     ]
    }
   ],
   "source": []
  },
  {
   "cell_type": "code",
   "execution_count": 15,
   "id": "7cefffa2",
   "metadata": {
    "scrolled": true
   },
   "outputs": [
    {
     "name": "stdout",
     "output_type": "stream",
     "text": [
      "On branch master\r\n",
      "Your branch is ahead of 'origin/master' by 5 commits.\r\n",
      "  (use \"git push\" to publish your local commits)\r\n",
      "\r\n",
      "Untracked files:\r\n",
      "\t\u001b[31m.ipynb_checkpoints/\u001b[m\r\n",
      "\t\u001b[31mConflict Data Project/\u001b[m\r\n",
      "\t\u001b[31mImporting Data in Python - Datacamp.py\u001b[m\r\n",
      "\t\u001b[31mIntermediate Python - Datacamp.py\u001b[m\r\n",
      "\t\u001b[31mMonte Carlo Simulation.ipynb\u001b[m\r\n",
      "\t\u001b[31mPython Data Science Toolbox - Datacamp.ipynb\u001b[m\r\n",
      "\t\u001b[31mUsed-Car-Data/\u001b[m\r\n",
      "\t\u001b[31mmarkdown-cheat-sheet.md\u001b[m\r\n",
      "\r\n",
      "nothing added to commit but untracked files present\r\n"
     ]
    }
   ],
   "source": [
    "!git add \"Git Tutorial CLI Fundamentals.ipynb\"\n",
    "!git commit -m \"added tech bootcamp exercise troubleshooting\""
   ]
  },
  {
   "cell_type": "code",
   "execution_count": 70,
   "id": "e90d5108",
   "metadata": {
    "scrolled": true
   },
   "outputs": [
    {
     "name": "stdout",
     "output_type": "stream",
     "text": [
      "* \u001b[32mmaster\u001b[m\r\n"
     ]
    }
   ],
   "source": [
    "!git branch"
   ]
  },
  {
   "cell_type": "code",
   "execution_count": 68,
   "id": "8fdcaeb2",
   "metadata": {},
   "outputs": [
    {
     "name": "stdout",
     "output_type": "stream",
     "text": [
      "origin\thttps://github.com/ghan8/UVAMDS.git (fetch)\r\n",
      "origin\thttps://github.com/ghan8/UVAMDS.git (push)\r\n"
     ]
    }
   ],
   "source": [
    "!git remote -v"
   ]
  },
  {
   "cell_type": "code",
   "execution_count": 69,
   "id": "b8166a62",
   "metadata": {
    "scrolled": false
   },
   "outputs": [
    {
     "name": "stdout",
     "output_type": "stream",
     "text": [
      "\u001b[KEnumerating objects: 7, done.\n",
      "\u001b[KCounting objects: 100% (7/7), done.\n",
      "Delta compression using up to 4 threads\n",
      "\u001b[KCompressing objects: 100% (3/3), done.\n",
      "\u001b[KWriting objects: 100% (4/4), 8.91 KiB | 4.46 MiB/s, done.\n",
      "Total 4 (delta 1), reused 0 (delta 0)\n",
      "remote: Resolving deltas: 100% (1/1), completed with 1 local object.\u001b[K\n",
      "To https://github.com/ghan8/UVAMDS.git\n",
      "   55122a7..916ba81  master -> master\n"
     ]
    }
   ],
   "source": [
    "!git push 'origin' master #this worked"
   ]
  },
  {
   "cell_type": "code",
   "execution_count": 67,
   "id": "dd318b04",
   "metadata": {},
   "outputs": [
    {
     "name": "stdout",
     "output_type": "stream",
     "text": [
      "fatal: 'main' does not appear to be a git repository\r\n",
      "fatal: Could not read from remote repository.\r\n",
      "\r\n",
      "Please make sure you have the correct access rights\r\n",
      "and the repository exists.\r\n"
     ]
    }
   ],
   "source": [
    "#!git push -u main master #this didnt work"
   ]
  },
  {
   "cell_type": "code",
   "execution_count": 66,
   "id": "e3e8ec92",
   "metadata": {},
   "outputs": [
    {
     "name": "stdout",
     "output_type": "stream",
     "text": [
      "From https://github.com/ghan8/UVAMDS\n",
      " * branch            master     -> FETCH_HEAD\n",
      "Already up to date.\n"
     ]
    }
   ],
   "source": [
    "!git pull origin master --allow-unrelated-histories #this worked"
   ]
  },
  {
   "cell_type": "markdown",
   "id": "4cfe1b38",
   "metadata": {},
   "source": [
    "# Command Line Actions"
   ]
  },
  {
   "cell_type": "code",
   "execution_count": 65,
   "id": "c38e54e7",
   "metadata": {},
   "outputs": [
    {
     "name": "stdout",
     "output_type": "stream",
     "text": [
      "fatal: pathspec 'Git' did not match any files\n",
      "On branch main\n",
      "Your branch is ahead of 'origin/master' by 3 commits.\n",
      "  (use \"git push\" to publish your local commits)\n",
      "\n",
      "Changes not staged for commit:\n",
      "\t\u001b[31mmodified:   Git Tutorial CLI Fundamentals.ipynb\u001b[m\n",
      "\n",
      "Untracked files:\n",
      "\t\u001b[31m.ipynb_checkpoints/\u001b[m\n",
      "\t\u001b[31mConflict Data Project/\u001b[m\n",
      "\t\u001b[31mImporting Data in Python - Datacamp.py\u001b[m\n",
      "\t\u001b[31mIntermediate Python - Datacamp.py\u001b[m\n",
      "\t\u001b[31mMonte Carlo Simulation.ipynb\u001b[m\n",
      "\t\u001b[31mPython Data Science Toolbox - Datacamp.ipynb\u001b[m\n",
      "\t\u001b[31mUntitled.ipynb\u001b[m\n",
      "\t\u001b[31mUsed-Car-Data/\u001b[m\n",
      "\t\u001b[31mmarkdown-cheat-sheet.md\u001b[m\n",
      "\n",
      "no changes added to commit\n",
      "fatal: remote origin already exists.\n",
      "fatal: 'master' does not appear to be a git repository\n",
      "fatal: Could not read from remote repository.\n",
      "\n",
      "Please make sure you have the correct access rights\n",
      "and the repository exists.\n"
     ]
    }
   ],
   "source": [
    "#Create New repository on the Command Line\n",
    "#!git init \n",
    "!git add Git Tutorial CLI Fundamentals.ipynb\n",
    "!git commit -m \"demo commit\"\n",
    "!git branch -M master\n",
    "!git remote add origin https://github.com/ghan8/UVAMDS.git\n",
    "!git push -u master"
   ]
  },
  {
   "cell_type": "code",
   "execution_count": 64,
   "id": "c949b77e",
   "metadata": {},
   "outputs": [
    {
     "name": "stdout",
     "output_type": "stream",
     "text": [
      "fatal: remote origin already exists.\n",
      "fatal: The current branch main has multiple upstream branches, refusing to push.\n"
     ]
    }
   ],
   "source": [
    "#push existing repo from the command line\n",
    "!git remote add origin https://github.com/ghan8/UVAMDS.git\n",
    "!git branch -M main\n",
    "!git push -u origin"
   ]
  },
  {
   "cell_type": "code",
   "execution_count": 63,
   "id": "f5e6a7f3",
   "metadata": {},
   "outputs": [
    {
     "name": "stdout",
     "output_type": "stream",
     "text": [
      "fatal: The current branch main has multiple upstream branches, refusing to push.\r\n"
     ]
    }
   ],
   "source": [
    "!git push -u origin"
   ]
  },
  {
   "cell_type": "code",
   "execution_count": null,
   "id": "e1a734d6",
   "metadata": {},
   "outputs": [],
   "source": [
    "!git pull https://github.com/ghan8/UVAMDS.git"
   ]
  },
  {
   "cell_type": "markdown",
   "id": "5a8dd365",
   "metadata": {},
   "source": [
    "# Git Tutorial Command-line Fundamentals"
   ]
  },
  {
   "cell_type": "markdown",
   "id": "b5c01d7b",
   "metadata": {},
   "source": [
    "Below are useful command line entries for basic git use. Credit to the youtube video Git Tutorial for Beginners: Command-Line Fundamentals by Corey Schafer. \n",
    "\n",
    "also this: https://www.youtube.com/watch?v=8JJ101D3knE&ab_channel=ProgrammingwithMosh. Git Tutorial for Beginners\n",
    "\n",
    "\"!\" passes through commands via python to the terminal\n",
    "\n",
    "Learn how to use git and streamline the use of git in ipython notebooks to support streamlining and version control."
   ]
  },
  {
   "cell_type": "code",
   "execution_count": null,
   "id": "0085f088",
   "metadata": {},
   "outputs": [],
   "source": [
    "#test git version via terminal\n",
    "!git --version"
   ]
  },
  {
   "cell_type": "code",
   "execution_count": null,
   "id": "52d51d71",
   "metadata": {},
   "outputs": [],
   "source": [
    "!git config --global user.name \"ghan8\"\n",
    "!git config --global user.email \"yep8eq@virginia.edu\"\n",
    "\n",
    "!git config --list"
   ]
  },
  {
   "cell_type": "code",
   "execution_count": null,
   "id": "a3928eb4",
   "metadata": {},
   "outputs": [],
   "source": [
    "!git config --help #help syntax"
   ]
  },
  {
   "cell_type": "code",
   "execution_count": null,
   "id": "dcc81cdb",
   "metadata": {},
   "outputs": [],
   "source": [
    "!pwd #print the working directory\n",
    "!ls -lhrt #list files "
   ]
  },
  {
   "cell_type": "code",
   "execution_count": null,
   "id": "eabbe57a",
   "metadata": {},
   "outputs": [],
   "source": [
    "!git init "
   ]
  },
  {
   "cell_type": "code",
   "execution_count": null,
   "id": "0a00fe50",
   "metadata": {},
   "outputs": [],
   "source": [
    "!ls -la -lhrt #list files in directory, list actions in file"
   ]
  },
  {
   "cell_type": "code",
   "execution_count": null,
   "id": "5efa511c",
   "metadata": {},
   "outputs": [],
   "source": [
    "#!rm -rf .git # remove .git from directory"
   ]
  },
  {
   "cell_type": "code",
   "execution_count": null,
   "id": "a84a8c99",
   "metadata": {},
   "outputs": [],
   "source": [
    "!git status #untracked files are not included in git actions. ignore these files."
   ]
  },
  {
   "cell_type": "code",
   "execution_count": null,
   "id": "2e7b25ee",
   "metadata": {},
   "outputs": [],
   "source": [
    "#!touch .gitignore #specify files we want git to ignore. Ask more about this in orientation\n",
    "#!git add .gitignore #commits the .gitignore file created"
   ]
  },
  {
   "cell_type": "code",
   "execution_count": null,
   "id": "739cfba4",
   "metadata": {},
   "outputs": [],
   "source": [
    "#add files to the staging area\n",
    "#!git add -A #adds everything to the staging area prior to a commit. \n",
    "#!git status # check the staging area\n",
    "#!git reset \"file name.py\" #removes items from the staging area\n",
    "!git status # check the staging area to confirm files were removed\n"
   ]
  },
  {
   "cell_type": "code",
   "execution_count": null,
   "id": "9e7e67cf",
   "metadata": {},
   "outputs": [],
   "source": [
    "!git add \"Git Tutorial Command-line Fundamentals.ipynb\" #add this file to the staging area\n",
    "!git status"
   ]
  },
  {
   "cell_type": "code",
   "execution_count": null,
   "id": "8488ef6d",
   "metadata": {},
   "outputs": [],
   "source": [
    "!git commit -m \"trivial changes\" #use -m to add a message"
   ]
  },
  {
   "cell_type": "code",
   "execution_count": 53,
   "id": "401bc3a6",
   "metadata": {},
   "outputs": [
    {
     "name": "stdout",
     "output_type": "stream",
     "text": [
      "On branch main\r\n",
      "Your branch is ahead of 'origin/master' by 2 commits.\r\n",
      "  (use \"git push\" to publish your local commits)\r\n",
      "\r\n",
      "Changes not staged for commit:\r\n",
      "  (use \"git add <file>...\" to update what will be committed)\r\n",
      "  (use \"git restore <file>...\" to discard changes in working directory)\r\n",
      "\t\u001b[31mmodified:   Git Tutorial CLI Fundamentals.ipynb\u001b[m\r\n",
      "\r\n",
      "Untracked files:\r\n",
      "  (use \"git add <file>...\" to include in what will be committed)\r\n",
      "\t\u001b[31m.ipynb_checkpoints/\u001b[m\r\n",
      "\t\u001b[31mConflict Data Project/\u001b[m\r\n",
      "\t\u001b[31mImporting Data in Python - Datacamp.py\u001b[m\r\n",
      "\t\u001b[31mIntermediate Python - Datacamp.py\u001b[m\r\n",
      "\t\u001b[31mMonte Carlo Simulation.ipynb\u001b[m\r\n",
      "\t\u001b[31mPython Data Science Toolbox - Datacamp.ipynb\u001b[m\r\n",
      "\t\u001b[31mUsed-Car-Data/\u001b[m\r\n",
      "\t\u001b[31mmarkdown-cheat-sheet.md\u001b[m\r\n",
      "\r\n",
      "no changes added to commit (use \"git add\" and/or \"git commit -a\")\r\n"
     ]
    }
   ],
   "source": [
    "!git status"
   ]
  },
  {
   "cell_type": "code",
   "execution_count": null,
   "id": "8cf4182f",
   "metadata": {},
   "outputs": [],
   "source": [
    "#tracking an exist remote project with git...most likely use case when working with a dev team on a work or academic repo.\n",
    "#!git clone <url> <where to clone>\n",
    "#!git clone ../remote_repo.git . # \" . \" means current directory\n",
    "#!cd \".../\" #change directory"
   ]
  },
  {
   "cell_type": "code",
   "execution_count": 52,
   "id": "ba8c9bd9",
   "metadata": {},
   "outputs": [
    {
     "name": "stdout",
     "output_type": "stream",
     "text": [
      "* \u001b[32mmain\u001b[m\r\n",
      "  \u001b[31mremotes/origin/main\u001b[m\r\n",
      "  \u001b[31mremotes/origin/master\u001b[m\r\n"
     ]
    }
   ],
   "source": [
    "#view information about cloned repo\n",
    "#!git remote -v \n",
    "!git branch -a #used to see all branches"
   ]
  },
  {
   "cell_type": "code",
   "execution_count": 61,
   "id": "cfa72a56",
   "metadata": {},
   "outputs": [],
   "source": [
    "#make changes to code base, change a code and execute a commit and push to update the repo\n",
    "#!git diff #show changes to the code\n",
    "#!git status #confirm changes\n",
    "#!git push origin master #push changes / commit to the master branch of the repository\n",
    "#!git pull origin master #pulls any changes that have been since the last time the repo was updated"
   ]
  },
  {
   "cell_type": "code",
   "execution_count": null,
   "id": "6890b9c8",
   "metadata": {},
   "outputs": [],
   "source": [
    "#streamlined \n",
    "#create a branch to work on code in parallel\n",
    "#!git branch \"name\" #create a branch\n",
    "#!git checkout \"name\" #checkout the branch to make changes\n",
    "#make file changes\n",
    "#!git add \"file\" or -A #add changes to staging directory\n",
    "#!git commit -m \"my message\"\n",
    "#!git push -u origin \"branch name\" pushed branch to the remote repo\n",
    "#!git pull origin master\n",
    "#!git merge \"branch name\" #merge branch with master"
   ]
  },
  {
   "cell_type": "code",
   "execution_count": null,
   "id": "76c2ebe2",
   "metadata": {},
   "outputs": [],
   "source": [
    "# idea, can i streamline this to python code than can be embeded inline. \n",
    "def gitbranchandcheck(branch_name):\n",
    "    !git branch \"name\" #create a branch\n",
    "    !git checkout \"name\" #checkout the branch to make changes\n",
    "    Return(Branch checked out, make file changes)\n",
    "    #make file changes\n",
    "def gitcommitandmerge(branch_name):\n",
    "    !git add -A #add changes to staging directory\n",
    "    #user input about the message\n",
    "    !git commit -m \"my message\"\n",
    "    !git push -u origin branch_name pushed branch to the remote repo\n",
    "    !git pull origin master\n",
    "    !git merge branch_name #merge branch with master"
   ]
  },
  {
   "cell_type": "code",
   "execution_count": null,
   "id": "6f790042",
   "metadata": {},
   "outputs": [],
   "source": []
  },
  {
   "cell_type": "code",
   "execution_count": null,
   "id": "d23b1385",
   "metadata": {},
   "outputs": [],
   "source": []
  }
 ],
 "metadata": {
  "kernelspec": {
   "display_name": "Python 3 (ipykernel)",
   "language": "python",
   "name": "python3"
  },
  "language_info": {
   "codemirror_mode": {
    "name": "ipython",
    "version": 3
   },
   "file_extension": ".py",
   "mimetype": "text/x-python",
   "name": "python",
   "nbconvert_exporter": "python",
   "pygments_lexer": "ipython3",
   "version": "3.9.12"
  }
 },
 "nbformat": 4,
 "nbformat_minor": 5
}
