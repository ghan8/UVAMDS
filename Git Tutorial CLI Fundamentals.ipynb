{
 "cells": [
  {
   "cell_type": "markdown",
   "id": "66acab95",
   "metadata": {},
   "source": [
    "## Exercise form tech bootcamp "
   ]
  },
  {
   "cell_type": "markdown",
   "id": "105e2235",
   "metadata": {},
   "source": [
    "I have three goals here:\n",
    "1. Complete the exercise\n",
    "2. Establish a remote connection to my repo\n",
    "3. Identify repeatable steps to repeat to update repo remotely from .ipynb files"
   ]
  },
  {
   "cell_type": "code",
   "execution_count": null,
   "id": "3a323038",
   "metadata": {},
   "outputs": [],
   "source": [
    "#clone a parallel github account retained for professional purposes\n",
    "!git clone https://github.com/gdhan8/Used-Car-Data "
   ]
  },
  {
   "cell_type": "markdown",
   "id": "aada298c",
   "metadata": {},
   "source": [
    "Despite the fatal error about, the output successful but achieved in a previous run"
   ]
  },
  {
   "cell_type": "code",
   "execution_count": null,
   "id": "2794641e",
   "metadata": {},
   "outputs": [],
   "source": [
    "#pass this through to see current working directory\n",
    "!pwd "
   ]
  },
  {
   "cell_type": "code",
   "execution_count": null,
   "id": "368e8747",
   "metadata": {},
   "outputs": [],
   "source": [
    "#display the files currently in the working directory,\n",
    "!ls "
   ]
  },
  {
   "cell_type": "markdown",
   "id": "a7202f3d",
   "metadata": {},
   "source": [
    "The clone is present locally, \"Used-Car-Data\", created foo.txt is also present"
   ]
  },
  {
   "cell_type": "code",
   "execution_count": null,
   "id": "5f034a83",
   "metadata": {},
   "outputs": [],
   "source": [
    "#nothing currently staged for commits to local or remote\n",
    "!git status "
   ]
  },
  {
   "cell_type": "markdown",
   "id": "0dd84e91",
   "metadata": {},
   "source": [
    "Currently my changes to this file are not staged for commit to local.\n",
    "I want the changes to be execute local and on the remote repo. "
   ]
  },
  {
   "cell_type": "code",
   "execution_count": null,
   "id": "72cbeca4",
   "metadata": {},
   "outputs": [],
   "source": [
    "#Attempting to add locally.\n",
    "!git add 'foo.txt'\n",
    "!git status"
   ]
  },
  {
   "cell_type": "markdown",
   "id": "9e0c7470",
   "metadata": {},
   "source": [
    "Git status shows that 'foo.txt is not present'"
   ]
  },
  {
   "cell_type": "code",
   "execution_count": null,
   "id": "d0c6a0f6",
   "metadata": {},
   "outputs": [],
   "source": [
    "#attempting to connect my new github repo remotely\n",
    "!git remote add 'foo.txt' https://github.com/ghan8/UVAMDS.git "
   ]
  },
  {
   "cell_type": "markdown",
   "id": "2d208cad",
   "metadata": {},
   "source": [
    "Output states that foo.txt is already present, but I do not see it on my repo page."
   ]
  },
  {
   "cell_type": "code",
   "execution_count": null,
   "id": "b4aa165b",
   "metadata": {},
   "outputs": [],
   "source": [
    "!git remote add 'Git Tutorial CLI Fundamentals.ipynb' https://github.com/ghan8/UVAMDS.git"
   ]
  },
  {
   "cell_type": "code",
   "execution_count": null,
   "id": "8892112e",
   "metadata": {},
   "outputs": [],
   "source": [
    "!git remote -v"
   ]
  },
  {
   "cell_type": "code",
   "execution_count": null,
   "id": "8847f0fc",
   "metadata": {},
   "outputs": [],
   "source": [
    "!ls"
   ]
  },
  {
   "cell_type": "code",
   "execution_count": null,
   "id": "d24fccf7",
   "metadata": {},
   "outputs": [],
   "source": [
    "!git add \"foo.txt\" \n",
    "!git status"
   ]
  },
  {
   "cell_type": "code",
   "execution_count": null,
   "id": "99ef4435",
   "metadata": {},
   "outputs": [],
   "source": [
    "!git commit -m 'add foo.txt' https://github.com/ghan8/UVAMDS.git\n",
    "!git push https://github.com/ghan8/UVAMDS.git master"
   ]
  },
  {
   "cell_type": "code",
   "execution_count": null,
   "id": "b3eee014",
   "metadata": {},
   "outputs": [],
   "source": [
    "!git push --set-upstream https://github.com/ghan8/UVAMDS.git\n",
    "    #This feature does not seem to work within the notebook\n",
    "    #however, did have success in connecting with personal access token in terminal\n",
    "    #confirmed by fork present on ghan8 git page."
   ]
  },
  {
   "cell_type": "code",
   "execution_count": null,
   "id": "2a8f8ba2",
   "metadata": {},
   "outputs": [],
   "source": [
    "!git add 'foo.txt'"
   ]
  },
  {
   "cell_type": "code",
   "execution_count": null,
   "id": "2760ef8b",
   "metadata": {},
   "outputs": [],
   "source": []
  },
  {
   "cell_type": "code",
   "execution_count": null,
   "id": "acc34e1d",
   "metadata": {},
   "outputs": [],
   "source": [
    "!git pull main"
   ]
  },
  {
   "cell_type": "code",
   "execution_count": null,
   "id": "7cefffa2",
   "metadata": {
    "scrolled": true
   },
   "outputs": [],
   "source": [
    "!git add \"Git Tutorial Command-line Fundamentals.ipynb\"\n",
    "!git commit -m \"added tech bootcamp exercise troubleshooting\""
   ]
  },
  {
   "cell_type": "code",
   "execution_count": null,
   "id": "e90d5108",
   "metadata": {
    "scrolled": true
   },
   "outputs": [],
   "source": [
    "!git branch"
   ]
  },
  {
   "cell_type": "code",
   "execution_count": null,
   "id": "b8166a62",
   "metadata": {
    "scrolled": false
   },
   "outputs": [],
   "source": [
    "!git push 'foo.txt' master"
   ]
  },
  {
   "cell_type": "code",
   "execution_count": 9,
   "id": "dd318b04",
   "metadata": {},
   "outputs": [
    {
     "name": "stdout",
     "output_type": "stream",
     "text": [
      "error: src refspec master does not match any\r\n",
      "\u001b[31merror: failed to push some refs to 'main'\r\n",
      "\u001b[m"
     ]
    }
   ],
   "source": [
    "!git push -u main master"
   ]
  },
  {
   "cell_type": "code",
   "execution_count": null,
   "id": "c0888815",
   "metadata": {},
   "outputs": [],
   "source": [
    "!git pull origin master --allow-unrelated-histories"
   ]
  },
  {
   "cell_type": "markdown",
   "id": "5d277e5c",
   "metadata": {},
   "source": [
    "# Command Line Actions"
   ]
  },
  {
   "cell_type": "code",
   "execution_count": 1,
   "id": "5311e44c",
   "metadata": {},
   "outputs": [
    {
     "name": "stdout",
     "output_type": "stream",
     "text": [
      "Reinitialized existing Git repository in /Users/gdhan/Documents/Data Science/Python/.git/\n",
      "fatal: pathspec 'Git' did not match any files\n",
      "On branch master\n",
      "Untracked files:\n",
      "\t\u001b[31m.ipynb_checkpoints/\u001b[m\n",
      "\t\u001b[31mConflict Data Project/\u001b[m\n",
      "\t\u001b[31mGit Tutorial CLI Fundamentals.ipynb\u001b[m\n",
      "\t\u001b[31mImporting Data in Python - Datacamp.py\u001b[m\n",
      "\t\u001b[31mIntermediate Python - Datacamp.py\u001b[m\n",
      "\t\u001b[31mMonte Carlo Simulation.ipynb\u001b[m\n",
      "\t\u001b[31mPython Data Science Toolbox - Datacamp.ipynb\u001b[m\n",
      "\t\u001b[31mUsed-Car-Data/\u001b[m\n",
      "\t\u001b[31mmarkdown-cheat-sheet.md\u001b[m\n",
      "\n",
      "nothing added to commit but untracked files present\n",
      "git: 'git' is not a git command. See 'git --help'.\n",
      "\n",
      "The most similar command is\n",
      "\tinit\n",
      "fatal: 'master' does not appear to be a git repository\n",
      "fatal: Could not read from remote repository.\n",
      "\n",
      "Please make sure you have the correct access rights\n",
      "and the repository exists.\n"
     ]
    }
   ],
   "source": [
    "#Create New repository on the Command Line\n",
    "!git init\n",
    "!git add Git Tutorial CLI Fundamentals.ipynb\n",
    "!git commit -m \"demo commit\"\n",
    "!git branch -M master\n",
    "!git git remote add origin https://github.com/ghan8/UVAMDS.git\n",
    "!git push -u master"
   ]
  },
  {
   "cell_type": "code",
   "execution_count": 2,
   "id": "1f6c04dc",
   "metadata": {},
   "outputs": [
    {
     "name": "stdout",
     "output_type": "stream",
     "text": [
      "To https://github.com/ghan8/UVAMDS.git\r\n",
      " \u001b[31m! [rejected]       \u001b[m main -> main (non-fast-forward)\r\n",
      "\u001b[31merror: failed to push some refs to 'https://github.com/ghan8/UVAMDS.git'\r\n",
      "\u001b[m\u001b[33mhint: Updates were rejected because the tip of your current branch is behind\u001b[m\r\n",
      "\u001b[33mhint: its remote counterpart. Integrate the remote changes (e.g.\u001b[m\r\n",
      "\u001b[33mhint: 'git pull ...') before pushing again.\u001b[m\r\n",
      "\u001b[33mhint: See the 'Note about fast-forwards' in 'git push --help' for details.\u001b[m\r\n"
     ]
    }
   ],
   "source": [
    "#push existing repo from the command line\n",
    "!git remote add origin https://github.com/ghan8/UVAMDS.git\n",
    "!git branch -M main\n",
    "!git push -u origin"
   ]
  },
  {
   "cell_type": "code",
   "execution_count": 6,
   "id": "dcbdb91b",
   "metadata": {},
   "outputs": [
    {
     "name": "stdout",
     "output_type": "stream",
     "text": [
      "From https://github.com/ghan8/UVAMDS\r\n",
      " * branch            master     -> FETCH_HEAD\r\n",
      "Already up to date.\r\n"
     ]
    }
   ],
   "source": [
    "!git pull https://github.com/ghan8/UVAMDS.git"
   ]
  },
  {
   "cell_type": "markdown",
   "id": "5a8dd365",
   "metadata": {},
   "source": [
    "# Git Tutorial Command-line Fundamentals"
   ]
  },
  {
   "cell_type": "markdown",
   "id": "b5c01d7b",
   "metadata": {},
   "source": [
    "Below are useful command line entries for basic git use. Credit to the youtube video Git Tutorial for Beginners: Command-Line Fundamentals by Corey Schafer. \n",
    "\n",
    "\"!\" passes through commands via python to the terminal\n",
    "\n",
    "Learn how to use git and streamline the use of git in ipython notebooks to support streamlining and version control."
   ]
  },
  {
   "cell_type": "code",
   "execution_count": null,
   "id": "0085f088",
   "metadata": {},
   "outputs": [],
   "source": [
    "#test git version via terminal\n",
    "!git --version"
   ]
  },
  {
   "cell_type": "code",
   "execution_count": null,
   "id": "52d51d71",
   "metadata": {},
   "outputs": [],
   "source": [
    "!git config --global user.name \"ghan8\"\n",
    "!git config --global user.email \"yep8eq@virginia.edu\"\n",
    "\n",
    "!git config --list"
   ]
  },
  {
   "cell_type": "code",
   "execution_count": null,
   "id": "a3928eb4",
   "metadata": {},
   "outputs": [],
   "source": [
    "!git config --help #help syntax"
   ]
  },
  {
   "cell_type": "code",
   "execution_count": null,
   "id": "dcc81cdb",
   "metadata": {},
   "outputs": [],
   "source": [
    "!pwd #print the working directory\n",
    "!ls -lhrt #list files "
   ]
  },
  {
   "cell_type": "code",
   "execution_count": null,
   "id": "eabbe57a",
   "metadata": {},
   "outputs": [],
   "source": [
    "!git init "
   ]
  },
  {
   "cell_type": "code",
   "execution_count": null,
   "id": "0a00fe50",
   "metadata": {},
   "outputs": [],
   "source": [
    "!ls -la -lhrt #list files in directory, list actions in file"
   ]
  },
  {
   "cell_type": "code",
   "execution_count": null,
   "id": "5efa511c",
   "metadata": {},
   "outputs": [],
   "source": [
    "#!rm -rf .git # remove .git from directory"
   ]
  },
  {
   "cell_type": "code",
   "execution_count": null,
   "id": "a84a8c99",
   "metadata": {},
   "outputs": [],
   "source": [
    "!git status #untracked files are not included in git actions. ignore these files."
   ]
  },
  {
   "cell_type": "code",
   "execution_count": null,
   "id": "2e7b25ee",
   "metadata": {},
   "outputs": [],
   "source": [
    "#!touch .gitignore #specify files we want git to ignore. Ask more about this in orientation\n",
    "#!git add .gitignore #commits the .gitignore file created"
   ]
  },
  {
   "cell_type": "code",
   "execution_count": null,
   "id": "739cfba4",
   "metadata": {},
   "outputs": [],
   "source": [
    "#add files to the staging area\n",
    "#!git add -A #adds everything to the staging area prior to a commit. \n",
    "#!git status # check the staging area\n",
    "#!git reset \"file name.py\" #removes items from the staging area\n",
    "!git status # check the staging area to confirm files were removed\n"
   ]
  },
  {
   "cell_type": "code",
   "execution_count": null,
   "id": "9e7e67cf",
   "metadata": {},
   "outputs": [],
   "source": [
    "!git add \"Git Tutorial Command-line Fundamentals.ipynb\" #add this file to the staging area\n",
    "!git status"
   ]
  },
  {
   "cell_type": "code",
   "execution_count": null,
   "id": "8488ef6d",
   "metadata": {},
   "outputs": [],
   "source": [
    "!git commit -m \"trivial changes\" #use -m to add a message"
   ]
  },
  {
   "cell_type": "code",
   "execution_count": null,
   "id": "401bc3a6",
   "metadata": {},
   "outputs": [],
   "source": [
    "!git status"
   ]
  },
  {
   "cell_type": "code",
   "execution_count": null,
   "id": "8cf4182f",
   "metadata": {},
   "outputs": [],
   "source": [
    "#tracking an exist remote project with git...most likely use case when working with a dev team on a work or academic repo.\n",
    "#!git clone <url> <where to clone>\n",
    "#!git clone ../remote_repo.git . # \" . \" means current directory\n",
    "#!cd \".../\" #change directory"
   ]
  },
  {
   "cell_type": "code",
   "execution_count": null,
   "id": "ba8c9bd9",
   "metadata": {},
   "outputs": [],
   "source": [
    "#view information about cloned repo\n",
    "#!git remote -v \n",
    "#!git branch -a #used to see all branches\n"
   ]
  },
  {
   "cell_type": "code",
   "execution_count": null,
   "id": "cfa72a56",
   "metadata": {},
   "outputs": [],
   "source": [
    "#make changes to code base, change a code and execute a commit and push to update the repo\n",
    "!git diff #show changes to the code\n",
    "#!git status #confirm changes\n",
    "#!git push origin master #push changes / commit to the master branch of the repository\n",
    "#!git pull origin master #pulls any changes that have been since the last time the repo was updated"
   ]
  },
  {
   "cell_type": "code",
   "execution_count": null,
   "id": "6890b9c8",
   "metadata": {},
   "outputs": [],
   "source": [
    "#streamlined \n",
    "#create a branch to work on code in parallel\n",
    "#!git branch \"name\" #create a branch\n",
    "#!git checkout \"name\" #checkout the branch to make changes\n",
    "#make file changes\n",
    "#!git add \"file\" or -A #add changes to staging directory\n",
    "#!git commit -m \"my message\"\n",
    "#!git push -u origin \"branch name\" pushed branch to the remote repo\n",
    "#!git pull origin master\n",
    "#!git merge \"branch name\" #merge branch with master"
   ]
  },
  {
   "cell_type": "code",
   "execution_count": null,
   "id": "76c2ebe2",
   "metadata": {},
   "outputs": [],
   "source": [
    "# idea, can i streamline this to python code than can be embeded inline. \n",
    "def gitbranchandcheck(branch_name):\n",
    "    !git branch \"name\" #create a branch\n",
    "    !git checkout \"name\" #checkout the branch to make changes\n",
    "    Return(Branch checked out, make file changes)\n",
    "    #make file changes\n",
    "def gitcommitandmerge(branch_name):\n",
    "    !git add -A #add changes to staging directory\n",
    "    #user input about the message\n",
    "    !git commit -m \"my message\"\n",
    "    !git push -u origin branch_name pushed branch to the remote repo\n",
    "    !git pull origin master\n",
    "    !git merge branch_name #merge branch with master"
   ]
  },
  {
   "cell_type": "code",
   "execution_count": null,
   "id": "6f790042",
   "metadata": {},
   "outputs": [],
   "source": [
    "!git log"
   ]
  }
 ],
 "metadata": {
  "kernelspec": {
   "display_name": "Python 3 (ipykernel)",
   "language": "python",
   "name": "python3"
  },
  "language_info": {
   "codemirror_mode": {
    "name": "ipython",
    "version": 3
   },
   "file_extension": ".py",
   "mimetype": "text/x-python",
   "name": "python",
   "nbconvert_exporter": "python",
   "pygments_lexer": "ipython3",
   "version": "3.9.12"
  }
 },
 "nbformat": 4,
 "nbformat_minor": 5
}
