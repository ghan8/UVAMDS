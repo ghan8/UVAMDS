{
 "cells": [
  {
   "cell_type": "markdown",
   "id": "66acab95",
   "metadata": {},
   "source": [
    "## Exercise form tech bootcamp "
   ]
  },
  {
   "cell_type": "markdown",
   "id": "105e2235",
   "metadata": {},
   "source": [
    "I have three goals here:\n",
    "1. Complete the exercise\n",
    "2. Establish a remote connection to my repo\n",
    "3. Identify repeatable steps to repeat to update repo remotely from .ipynb files"
   ]
  },
  {
   "cell_type": "code",
   "execution_count": 1,
   "id": "3a323038",
   "metadata": {},
   "outputs": [
    {
     "name": "stdout",
     "output_type": "stream",
     "text": [
      "fatal: destination path 'Used-Car-Data' already exists and is not an empty directory.\r\n"
     ]
    }
   ],
   "source": [
    "#clone a parallel github account retained for professional purposes\n",
    "!git clone https://github.com/gdhan8/Used-Car-Data "
   ]
  },
  {
   "cell_type": "markdown",
   "id": "9d52011c",
   "metadata": {},
   "source": [
    "Despite the fatal error about, the output successful but achieved in a previous run"
   ]
  },
  {
   "cell_type": "code",
   "execution_count": 2,
   "id": "2794641e",
   "metadata": {},
   "outputs": [
    {
     "name": "stdout",
     "output_type": "stream",
     "text": [
      "/Users/gdhan/Documents/Data Science/Python\r\n"
     ]
    }
   ],
   "source": [
    "#pass this through to see current working directory\n",
    "!pwd "
   ]
  },
  {
   "cell_type": "code",
   "execution_count": 3,
   "id": "368e8747",
   "metadata": {},
   "outputs": [
    {
     "name": "stdout",
     "output_type": "stream",
     "text": [
      "\u001b[34m.\u001b[m\u001b[m\r\n",
      "\u001b[34m..\u001b[m\u001b[m\r\n",
      ".DS_Store\r\n",
      "\u001b[34m.git\u001b[m\u001b[m\r\n",
      "\u001b[34m.ipynb_checkpoints\u001b[m\u001b[m\r\n",
      "\u001b[34mConflict Data Project\u001b[m\u001b[m\r\n",
      "Git Tutorial CLI Fundamentals.ipynb\r\n",
      "Importing Data in Python - Datacamp.py\r\n",
      "Intermediate Python - Datacamp.py\r\n",
      "LICENSE\r\n",
      "Monte Carlo Simulation.ipynb\r\n",
      "Python Data Science Toolbox - Datacamp.ipynb\r\n",
      "README.md\r\n",
      "\u001b[34mUsed-Car-Data\u001b[m\u001b[m\r\n",
      "foo.txt\r\n",
      "markdown-cheat-sheet.md\r\n"
     ]
    }
   ],
   "source": [
    "#display the files currently in the working directory,\n",
    "!ls -a"
   ]
  },
  {
   "cell_type": "markdown",
   "id": "a7202f3d",
   "metadata": {},
   "source": [
    "The clone is present locally, \"Used-Car-Data\", created foo.txt is also present"
   ]
  },
  {
   "cell_type": "code",
   "execution_count": 4,
   "id": "cb5297ef",
   "metadata": {},
   "outputs": [],
   "source": [
    "!open .git "
   ]
  },
  {
   "cell_type": "markdown",
   "id": "63d066ca",
   "metadata": {},
   "source": [
    "Through the finder (on mac)  you can see the file structure of the .git file. I made some errors in git syntax which created wrongly named remote. Used this command and finder interface to delete the mislabeled remote."
   ]
  },
  {
   "cell_type": "code",
   "execution_count": 5,
   "id": "5f034a83",
   "metadata": {},
   "outputs": [
    {
     "name": "stdout",
     "output_type": "stream",
     "text": [
      "On branch main\r\n",
      "Changes not staged for commit:\r\n",
      "  (use \"git add <file>...\" to update what will be committed)\r\n",
      "  (use \"git restore <file>...\" to discard changes in working directory)\r\n",
      "\t\u001b[31mmodified:   Git Tutorial CLI Fundamentals.ipynb\u001b[m\r\n",
      "\r\n",
      "Untracked files:\r\n",
      "  (use \"git add <file>...\" to include in what will be committed)\r\n",
      "\t\u001b[31m.ipynb_checkpoints/\u001b[m\r\n",
      "\t\u001b[31mConflict Data Project/\u001b[m\r\n",
      "\t\u001b[31mImporting Data in Python - Datacamp.py\u001b[m\r\n",
      "\t\u001b[31mIntermediate Python - Datacamp.py\u001b[m\r\n",
      "\t\u001b[31mMonte Carlo Simulation.ipynb\u001b[m\r\n",
      "\t\u001b[31mPython Data Science Toolbox - Datacamp.ipynb\u001b[m\r\n",
      "\t\u001b[31mUsed-Car-Data/\u001b[m\r\n",
      "\t\u001b[31mmarkdown-cheat-sheet.md\u001b[m\r\n",
      "\r\n",
      "no changes added to commit (use \"git add\" and/or \"git commit -a\")\r\n"
     ]
    }
   ],
   "source": [
    "!git status "
   ]
  },
  {
   "cell_type": "markdown",
   "id": "0dd84e91",
   "metadata": {},
   "source": [
    "Currently my changes to this file are not staged for commit to local.\n",
    "I want the changes to be execute local and on the remote repo. "
   ]
  },
  {
   "cell_type": "code",
   "execution_count": 57,
   "id": "249f6007",
   "metadata": {},
   "outputs": [
    {
     "name": "stdout",
     "output_type": "stream",
     "text": [
      "\u001b[34mConflict Data Project\u001b[m\u001b[m\n",
      "Git Tutorial CLI Fundamentals.ipynb\n",
      "Importing Data in Python - Datacamp.py\n",
      "Intermediate Python - Datacamp.py\n",
      "LICENSE\n",
      "Monte Carlo Simulation.ipynb\n",
      "Python Data Science Toolbox - Datacamp.ipynb\n",
      "README.md\n",
      "\u001b[34mUsed-Car-Data\u001b[m\u001b[m\n",
      "foo.txt\n",
      "markdown-cheat-sheet.md\n",
      "On branch main\n",
      "Your branch is ahead of 'origin/master' by 2 commits.\n",
      "  (use \"git push\" to publish your local commits)\n",
      "\n",
      "Changes not staged for commit:\n",
      "  (use \"git add <file>...\" to update what will be committed)\n",
      "  (use \"git restore <file>...\" to discard changes in working directory)\n",
      "\t\u001b[31mmodified:   Git Tutorial CLI Fundamentals.ipynb\u001b[m\n",
      "\t\u001b[31mmodified:   foo.txt\u001b[m\n",
      "\n",
      "Untracked files:\n",
      "  (use \"git add <file>...\" to include in what will be committed)\n",
      "\t\u001b[31m.ipynb_checkpoints/\u001b[m\n",
      "\t\u001b[31mConflict Data Project/\u001b[m\n",
      "\t\u001b[31mImporting Data in Python - Datacamp.py\u001b[m\n",
      "\t\u001b[31mIntermediate Python - Datacamp.py\u001b[m\n",
      "\t\u001b[31mMonte Carlo Simulation.ipynb\u001b[m\n",
      "\t\u001b[31mPython Data Science Toolbox - Datacamp.ipynb\u001b[m\n",
      "\t\u001b[31mUsed-Car-Data/\u001b[m\n",
      "\t\u001b[31mmarkdown-cheat-sheet.md\u001b[m\n",
      "\n",
      "no changes added to commit (use \"git add\" and/or \"git commit -a\")\n"
     ]
    }
   ],
   "source": [
    "!echo hello world > foo.txt #create foo.txt\n",
    "!ls\n",
    "!git status"
   ]
  },
  {
   "cell_type": "code",
   "execution_count": 6,
   "id": "8ba8e81c",
   "metadata": {},
   "outputs": [
    {
     "name": "stdout",
     "output_type": "stream",
     "text": [
      "On branch main\r\n",
      "Changes to be committed:\r\n",
      "  (use \"git restore --staged <file>...\" to unstage)\r\n",
      "\t\u001b[32mmodified:   Git Tutorial CLI Fundamentals.ipynb\u001b[m\r\n",
      "\r\n",
      "Untracked files:\r\n",
      "  (use \"git add <file>...\" to include in what will be committed)\r\n",
      "\t\u001b[31m.ipynb_checkpoints/\u001b[m\r\n",
      "\t\u001b[31mConflict Data Project/\u001b[m\r\n",
      "\t\u001b[31mImporting Data in Python - Datacamp.py\u001b[m\r\n",
      "\t\u001b[31mIntermediate Python - Datacamp.py\u001b[m\r\n",
      "\t\u001b[31mMonte Carlo Simulation.ipynb\u001b[m\r\n",
      "\t\u001b[31mPython Data Science Toolbox - Datacamp.ipynb\u001b[m\r\n",
      "\t\u001b[31mUsed-Car-Data/\u001b[m\r\n",
      "\t\u001b[31mmarkdown-cheat-sheet.md\u001b[m\r\n",
      "\r\n"
     ]
    }
   ],
   "source": [
    "#Attempting to add locally.\n",
    "!git add 'foo.txt' #exercise file\n",
    "!git add 'Git Tutorial CLI Fundamentals.ipynb' #this notebook tutorial\n",
    "!git status"
   ]
  },
  {
   "cell_type": "markdown",
   "id": "e4e4a408",
   "metadata": {},
   "source": [
    "Git status shows that 'foo.txt is not present'"
   ]
  },
  {
   "cell_type": "code",
   "execution_count": 7,
   "id": "76c8b419",
   "metadata": {},
   "outputs": [
    {
     "name": "stdout",
     "output_type": "stream",
     "text": [
      "\u001b[34mConflict Data Project\u001b[m\u001b[m\r\n",
      "Git Tutorial CLI Fundamentals.ipynb\r\n",
      "Importing Data in Python - Datacamp.py\r\n",
      "Intermediate Python - Datacamp.py\r\n",
      "LICENSE\r\n",
      "Monte Carlo Simulation.ipynb\r\n",
      "Python Data Science Toolbox - Datacamp.ipynb\r\n",
      "README.md\r\n",
      "\u001b[34mUsed-Car-Data\u001b[m\u001b[m\r\n",
      "foo.txt\r\n",
      "markdown-cheat-sheet.md\r\n"
     ]
    }
   ],
   "source": [
    "!ls"
   ]
  },
  {
   "cell_type": "markdown",
   "id": "ea945525",
   "metadata": {},
   "source": [
    "However, foo.txt is present, perhaps git does not recognize .txt? I will continue with this .ipynb file"
   ]
  },
  {
   "cell_type": "code",
   "execution_count": 8,
   "id": "cfc953f1",
   "metadata": {},
   "outputs": [
    {
     "name": "stdout",
     "output_type": "stream",
     "text": [
      "[main 55122a7] organizing\r\n",
      " 1 file changed, 75 insertions(+), 52 deletions(-)\r\n"
     ]
    }
   ],
   "source": [
    "!git commit -m \"organizing\" #use -m to add a message"
   ]
  },
  {
   "cell_type": "code",
   "execution_count": 46,
   "id": "d0c6a0f6",
   "metadata": {},
   "outputs": [
    {
     "name": "stdout",
     "output_type": "stream",
     "text": [
      "fatal: remote origin already exists.\r\n"
     ]
    }
   ],
   "source": [
    "#attempting to connect my new github repo remotely\n",
    "!git remote add origin https://github.com/ghan8/UVAMDS.git "
   ]
  },
  {
   "cell_type": "code",
   "execution_count": 47,
   "id": "74061d84",
   "metadata": {},
   "outputs": [
    {
     "name": "stdout",
     "output_type": "stream",
     "text": [
      "origin\thttps://github.com/ghan8/UVAMDS.git (fetch)\r\n",
      "origin\thttps://github.com/ghan8/UVAMDS.git (push)\r\n"
     ]
    }
   ],
   "source": [
    "!git remote -v "
   ]
  },
  {
   "cell_type": "markdown",
   "id": "21a7f203",
   "metadata": {},
   "source": [
    "Origin is the name of my remote location."
   ]
  },
  {
   "cell_type": "code",
   "execution_count": 48,
   "id": "b3eee014",
   "metadata": {},
   "outputs": [
    {
     "name": "stdout",
     "output_type": "stream",
     "text": [
      "\u001b[KEnumerating objects: 1, done.\n",
      "\u001b[KCounting objects: 100% (1/1), done.\n",
      "\u001b[KWriting objects: 100% (1/1), 212 bytes | 212.00 KiB/s, done.\n",
      "Total 1 (delta 0), reused 0 (delta 0)\n",
      "To https://github.com/ghan8/UVAMDS.git\n",
      "   1fcc8b4..5fc8d8d  main -> main\n",
      "warning: branch.main.remote has multiple values\n",
      "warning: branch.main.merge has multiple values\n",
      "Branch 'main' set up to track remote branch 'main' from 'https://github.com/ghan8/UVAMDS.git'.\n"
     ]
    }
   ],
   "source": [
    "!git push --set-upstream https://github.com/ghan8/UVAMDS.git \n",
    "    #This feature does not seem to work within the notebook\n",
    "    #however, did have success in connecting with personal access token in terminal\n",
    "    #confirmed by fork present on ghan8 git page.\n",
    "    #this is required for establishing connection to git page. "
   ]
  },
  {
   "cell_type": "code",
   "execution_count": null,
   "id": "99ef4435",
   "metadata": {},
   "outputs": [],
   "source": []
  },
  {
   "cell_type": "code",
   "execution_count": 12,
   "id": "2760ef8b",
   "metadata": {},
   "outputs": [
    {
     "name": "stdout",
     "output_type": "stream",
     "text": [
      "\u001b[KEnumerating objects: 8, done.\n",
      "\u001b[KCounting objects: 100% (8/8), done.\n",
      "Delta compression using up to 4 threads\n",
      "\u001b[KCompressing objects: 100% (6/6), done.\n",
      "\u001b[KWriting objects: 100% (6/6), 3.06 KiB | 782.00 KiB/s, done.\n",
      "Total 6 (delta 4), reused 0 (delta 0)\n",
      "remote: Resolving deltas: 100% (4/4), completed with 2 local objects.\u001b[K\n",
      "To https://github.com/ghan8/UVAMDS.git\n",
      "   4ffb408..55122a7  HEAD -> master\n"
     ]
    }
   ],
   "source": [
    "!git push https://github.com/ghan8/UVAMDS.git HEAD:master\n",
    "        #after theses it somehow worked"
   ]
  },
  {
   "cell_type": "code",
   "execution_count": 13,
   "id": "f6f4ff5e",
   "metadata": {},
   "outputs": [
    {
     "name": "stdout",
     "output_type": "stream",
     "text": [
      "Branch 'master' set up to track remote branch 'master' from 'origin'.\n",
      "Switched to a new branch 'master'\n",
      "Updating 48f4607..55122a7\n",
      "Fast-forward\n",
      " Git Tutorial CLI Fundamentals.ipynb | 901 \u001b[32m++++++++++++++++++++++++++++++++++++\u001b[m\n",
      " LICENSE                             |  21 \u001b[32m+\u001b[m\n",
      " README.md                           |   2 \u001b[32m+\u001b[m\n",
      " 3 files changed, 924 insertions(+)\n",
      " create mode 100644 Git Tutorial CLI Fundamentals.ipynb\n",
      " create mode 100644 LICENSE\n",
      " create mode 100644 README.md\n"
     ]
    }
   ],
   "source": [
    "!git checkout master\n",
    "!git merge main\n",
    "    #after theses it somehow worked"
   ]
  },
  {
   "cell_type": "code",
   "execution_count": 14,
   "id": "acc34e1d",
   "metadata": {},
   "outputs": [
    {
     "name": "stdout",
     "output_type": "stream",
     "text": [
      "fatal: 'main' does not appear to be a git repository\r\n",
      "fatal: Could not read from remote repository.\r\n",
      "\r\n",
      "Please make sure you have the correct access rights\r\n",
      "and the repository exists.\r\n"
     ]
    }
   ],
   "source": []
  },
  {
   "cell_type": "code",
   "execution_count": 15,
   "id": "7cefffa2",
   "metadata": {
    "scrolled": true
   },
   "outputs": [
    {
     "name": "stdout",
     "output_type": "stream",
     "text": [
      "On branch master\r\n",
      "Your branch is ahead of 'origin/master' by 5 commits.\r\n",
      "  (use \"git push\" to publish your local commits)\r\n",
      "\r\n",
      "Untracked files:\r\n",
      "\t\u001b[31m.ipynb_checkpoints/\u001b[m\r\n",
      "\t\u001b[31mConflict Data Project/\u001b[m\r\n",
      "\t\u001b[31mImporting Data in Python - Datacamp.py\u001b[m\r\n",
      "\t\u001b[31mIntermediate Python - Datacamp.py\u001b[m\r\n",
      "\t\u001b[31mMonte Carlo Simulation.ipynb\u001b[m\r\n",
      "\t\u001b[31mPython Data Science Toolbox - Datacamp.ipynb\u001b[m\r\n",
      "\t\u001b[31mUsed-Car-Data/\u001b[m\r\n",
      "\t\u001b[31mmarkdown-cheat-sheet.md\u001b[m\r\n",
      "\r\n",
      "nothing added to commit but untracked files present\r\n"
     ]
    }
   ],
   "source": [
    "!git add \"Git Tutorial CLI Fundamentals.ipynb\"\n",
    "!git commit -m \"added tech bootcamp exercise troubleshooting\""
   ]
  },
  {
   "cell_type": "code",
   "execution_count": 16,
   "id": "e90d5108",
   "metadata": {
    "scrolled": true
   },
   "outputs": [
    {
     "name": "stdout",
     "output_type": "stream",
     "text": [
      "  main\u001b[m\r\n",
      "* \u001b[32mmaster\u001b[m\r\n"
     ]
    }
   ],
   "source": [
    "!git branch"
   ]
  },
  {
   "cell_type": "code",
   "execution_count": 54,
   "id": "8fdcaeb2",
   "metadata": {},
   "outputs": [
    {
     "name": "stdout",
     "output_type": "stream",
     "text": [
      "origin\thttps://github.com/ghan8/UVAMDS.git (fetch)\r\n",
      "origin\thttps://github.com/ghan8/UVAMDS.git (push)\r\n"
     ]
    }
   ],
   "source": [
    "!git remote -v"
   ]
  },
  {
   "cell_type": "code",
   "execution_count": 18,
   "id": "b8166a62",
   "metadata": {
    "scrolled": false
   },
   "outputs": [
    {
     "name": "stdout",
     "output_type": "stream",
     "text": [
      "Everything up-to-date\r\n"
     ]
    }
   ],
   "source": [
    "!git push 'foo.txt' master"
   ]
  },
  {
   "cell_type": "code",
   "execution_count": 19,
   "id": "dd318b04",
   "metadata": {},
   "outputs": [
    {
     "name": "stdout",
     "output_type": "stream",
     "text": [
      "fatal: 'main' does not appear to be a git repository\r\n",
      "fatal: Could not read from remote repository.\r\n",
      "\r\n",
      "Please make sure you have the correct access rights\r\n",
      "and the repository exists.\r\n"
     ]
    }
   ],
   "source": [
    "!git push -u main master"
   ]
  },
  {
   "cell_type": "code",
   "execution_count": 20,
   "id": "e3e8ec92",
   "metadata": {},
   "outputs": [
    {
     "name": "stdout",
     "output_type": "stream",
     "text": [
      "From https://github.com/ghan8/UVAMDS\r\n",
      " * branch            master     -> FETCH_HEAD\r\n",
      "   48f4607..55122a7  master     -> origin/master\r\n",
      "Already up to date.\r\n"
     ]
    }
   ],
   "source": [
    "!git pull origin master --allow-unrelated-histories"
   ]
  },
  {
   "cell_type": "markdown",
   "id": "4cfe1b38",
   "metadata": {},
   "source": [
    "# Command Line Actions"
   ]
  },
  {
   "cell_type": "code",
   "execution_count": 21,
   "id": "c38e54e7",
   "metadata": {},
   "outputs": [
    {
     "name": "stdout",
     "output_type": "stream",
     "text": [
      "Reinitialized existing Git repository in /Users/gdhan/Documents/Data Science/Python/.git/\n",
      "fatal: pathspec 'Git' did not match any files\n",
      "On branch master\n",
      "Your branch is up to date with 'origin/master'.\n",
      "\n",
      "Untracked files:\n",
      "\t\u001b[31m.ipynb_checkpoints/\u001b[m\n",
      "\t\u001b[31mConflict Data Project/\u001b[m\n",
      "\t\u001b[31mImporting Data in Python - Datacamp.py\u001b[m\n",
      "\t\u001b[31mIntermediate Python - Datacamp.py\u001b[m\n",
      "\t\u001b[31mMonte Carlo Simulation.ipynb\u001b[m\n",
      "\t\u001b[31mPython Data Science Toolbox - Datacamp.ipynb\u001b[m\n",
      "\t\u001b[31mUsed-Car-Data/\u001b[m\n",
      "\t\u001b[31mmarkdown-cheat-sheet.md\u001b[m\n",
      "\n",
      "nothing added to commit but untracked files present\n",
      "fatal: remote origin already exists.\n",
      "fatal: 'master' does not appear to be a git repository\n",
      "fatal: Could not read from remote repository.\n",
      "\n",
      "Please make sure you have the correct access rights\n",
      "and the repository exists.\n"
     ]
    }
   ],
   "source": [
    "#Create New repository on the Command Line\n",
    "!git init \n",
    "!git add Git Tutorial CLI Fundamentals.ipynb\n",
    "!git commit -m \"demo commit\"\n",
    "!git branch -M master\n",
    "!git remote add origin https://github.com/ghan8/UVAMDS.git\n",
    "!git push -u master"
   ]
  },
  {
   "cell_type": "code",
   "execution_count": 22,
   "id": "c949b77e",
   "metadata": {},
   "outputs": [
    {
     "name": "stdout",
     "output_type": "stream",
     "text": [
      "fatal: remote origin already exists.\n",
      "fatal: The current branch main has multiple upstream branches, refusing to push.\n"
     ]
    }
   ],
   "source": [
    "#push existing repo from the command line\n",
    "!git remote add origin https://github.com/ghan8/UVAMDS.git\n",
    "!git branch -M main\n",
    "!git push -u origin"
   ]
  },
  {
   "cell_type": "code",
   "execution_count": 31,
   "id": "f5e6a7f3",
   "metadata": {},
   "outputs": [
    {
     "name": "stdout",
     "output_type": "stream",
     "text": [
      "error: You have not concluded your merge (MERGE_HEAD exists).\r\n",
      "\u001b[33mhint: Please, commit your changes before merging.\u001b[m\r\n",
      "fatal: Exiting because of unfinished merge.\r\n"
     ]
    }
   ],
   "source": [
    "!git pull https://github.com/ghan8/UVAMDS.git"
   ]
  },
  {
   "cell_type": "markdown",
   "id": "5a8dd365",
   "metadata": {},
   "source": [
    "# Git Tutorial Command-line Fundamentals"
   ]
  },
  {
   "cell_type": "markdown",
   "id": "b5c01d7b",
   "metadata": {},
   "source": [
    "Below are useful command line entries for basic git use. Credit to the youtube video Git Tutorial for Beginners: Command-Line Fundamentals by Corey Schafer. \n",
    "\n",
    "also this: https://www.youtube.com/watch?v=8JJ101D3knE&ab_channel=ProgrammingwithMosh. Git Tutorial for Beginners\n",
    "\n",
    "\"!\" passes through commands via python to the terminal\n",
    "\n",
    "Learn how to use git and streamline the use of git in ipython notebooks to support streamlining and version control."
   ]
  },
  {
   "cell_type": "code",
   "execution_count": null,
   "id": "0085f088",
   "metadata": {},
   "outputs": [],
   "source": [
    "#test git version via terminal\n",
    "!git --version"
   ]
  },
  {
   "cell_type": "code",
   "execution_count": null,
   "id": "52d51d71",
   "metadata": {},
   "outputs": [],
   "source": [
    "!git config --global user.name \"ghan8\"\n",
    "!git config --global user.email \"yep8eq@virginia.edu\"\n",
    "\n",
    "!git config --list"
   ]
  },
  {
   "cell_type": "code",
   "execution_count": null,
   "id": "a3928eb4",
   "metadata": {},
   "outputs": [],
   "source": [
    "!git config --help #help syntax"
   ]
  },
  {
   "cell_type": "code",
   "execution_count": null,
   "id": "dcc81cdb",
   "metadata": {},
   "outputs": [],
   "source": [
    "!pwd #print the working directory\n",
    "!ls -lhrt #list files "
   ]
  },
  {
   "cell_type": "code",
   "execution_count": null,
   "id": "eabbe57a",
   "metadata": {},
   "outputs": [],
   "source": [
    "!git init "
   ]
  },
  {
   "cell_type": "code",
   "execution_count": null,
   "id": "0a00fe50",
   "metadata": {},
   "outputs": [],
   "source": [
    "!ls -la -lhrt #list files in directory, list actions in file"
   ]
  },
  {
   "cell_type": "code",
   "execution_count": null,
   "id": "5efa511c",
   "metadata": {},
   "outputs": [],
   "source": [
    "#!rm -rf .git # remove .git from directory"
   ]
  },
  {
   "cell_type": "code",
   "execution_count": null,
   "id": "a84a8c99",
   "metadata": {},
   "outputs": [],
   "source": [
    "!git status #untracked files are not included in git actions. ignore these files."
   ]
  },
  {
   "cell_type": "code",
   "execution_count": null,
   "id": "2e7b25ee",
   "metadata": {},
   "outputs": [],
   "source": [
    "#!touch .gitignore #specify files we want git to ignore. Ask more about this in orientation\n",
    "#!git add .gitignore #commits the .gitignore file created"
   ]
  },
  {
   "cell_type": "code",
   "execution_count": null,
   "id": "739cfba4",
   "metadata": {},
   "outputs": [],
   "source": [
    "#add files to the staging area\n",
    "#!git add -A #adds everything to the staging area prior to a commit. \n",
    "#!git status # check the staging area\n",
    "#!git reset \"file name.py\" #removes items from the staging area\n",
    "!git status # check the staging area to confirm files were removed\n"
   ]
  },
  {
   "cell_type": "code",
   "execution_count": null,
   "id": "9e7e67cf",
   "metadata": {},
   "outputs": [],
   "source": [
    "!git add \"Git Tutorial Command-line Fundamentals.ipynb\" #add this file to the staging area\n",
    "!git status"
   ]
  },
  {
   "cell_type": "code",
   "execution_count": null,
   "id": "8488ef6d",
   "metadata": {},
   "outputs": [],
   "source": [
    "!git commit -m \"trivial changes\" #use -m to add a message"
   ]
  },
  {
   "cell_type": "code",
   "execution_count": 53,
   "id": "401bc3a6",
   "metadata": {},
   "outputs": [
    {
     "name": "stdout",
     "output_type": "stream",
     "text": [
      "On branch main\r\n",
      "Your branch is ahead of 'origin/master' by 2 commits.\r\n",
      "  (use \"git push\" to publish your local commits)\r\n",
      "\r\n",
      "Changes not staged for commit:\r\n",
      "  (use \"git add <file>...\" to update what will be committed)\r\n",
      "  (use \"git restore <file>...\" to discard changes in working directory)\r\n",
      "\t\u001b[31mmodified:   Git Tutorial CLI Fundamentals.ipynb\u001b[m\r\n",
      "\r\n",
      "Untracked files:\r\n",
      "  (use \"git add <file>...\" to include in what will be committed)\r\n",
      "\t\u001b[31m.ipynb_checkpoints/\u001b[m\r\n",
      "\t\u001b[31mConflict Data Project/\u001b[m\r\n",
      "\t\u001b[31mImporting Data in Python - Datacamp.py\u001b[m\r\n",
      "\t\u001b[31mIntermediate Python - Datacamp.py\u001b[m\r\n",
      "\t\u001b[31mMonte Carlo Simulation.ipynb\u001b[m\r\n",
      "\t\u001b[31mPython Data Science Toolbox - Datacamp.ipynb\u001b[m\r\n",
      "\t\u001b[31mUsed-Car-Data/\u001b[m\r\n",
      "\t\u001b[31mmarkdown-cheat-sheet.md\u001b[m\r\n",
      "\r\n",
      "no changes added to commit (use \"git add\" and/or \"git commit -a\")\r\n"
     ]
    }
   ],
   "source": [
    "!git status"
   ]
  },
  {
   "cell_type": "code",
   "execution_count": null,
   "id": "8cf4182f",
   "metadata": {},
   "outputs": [],
   "source": [
    "#tracking an exist remote project with git...most likely use case when working with a dev team on a work or academic repo.\n",
    "#!git clone <url> <where to clone>\n",
    "#!git clone ../remote_repo.git . # \" . \" means current directory\n",
    "#!cd \".../\" #change directory"
   ]
  },
  {
   "cell_type": "code",
   "execution_count": 52,
   "id": "ba8c9bd9",
   "metadata": {},
   "outputs": [
    {
     "name": "stdout",
     "output_type": "stream",
     "text": [
      "* \u001b[32mmain\u001b[m\r\n",
      "  \u001b[31mremotes/origin/main\u001b[m\r\n",
      "  \u001b[31mremotes/origin/master\u001b[m\r\n"
     ]
    }
   ],
   "source": [
    "#view information about cloned repo\n",
    "#!git remote -v \n",
    "!git branch -a #used to see all branches"
   ]
  },
  {
   "cell_type": "code",
   "execution_count": 51,
   "id": "cfa72a56",
   "metadata": {},
   "outputs": [
    {
     "name": "stdout",
     "output_type": "stream",
     "text": [
      "\u001b[1mdiff --git a/Git Tutorial CLI Fundamentals.ipynb b/Git Tutorial CLI Fundamentals.ipynb\u001b[m\n",
      "\u001b[1mindex eeb55ff..4b18a06 100644\u001b[m\n",
      "\u001b[1m--- a/Git Tutorial CLI Fundamentals.ipynb\u001b[m\t\n",
      "\u001b[1m+++ b/Git Tutorial CLI Fundamentals.ipynb\u001b[m\t\n",
      "\u001b[36m@@ -21,7 +21,7 @@\u001b[m\n",
      "   },\u001b[m\n",
      "   {\u001b[m\n",
      "    \"cell_type\": \"code\",\u001b[m\n",
      "\u001b[31m-   \"execution_count\": 13,\u001b[m\n",
      "\u001b[32m+\u001b[m\u001b[32m   \"execution_count\": 1,\u001b[m\n",
      "    \"id\": \"3a323038\",\u001b[m\n",
      "    \"metadata\": {},\u001b[m\n",
      "    \"outputs\": [\u001b[m\n",
      "\u001b[36m@@ -40,7 +40,7 @@\u001b[m\n",
      "   },\u001b[m\n",
      "   {\u001b[m\n",
      "    \"cell_type\": \"markdown\",\u001b[m\n",
      "\u001b[31m-   \"id\": \"b3b50f0b\",\u001b[m\n",
      "\u001b[32m+\u001b[m\u001b[32m   \"id\": \"9d52011c\",\u001b[m\n",
      "    \"metadata\": {},\u001b[m\n",
      "    \"source\": [\u001b[m\n",
      "     \"Despite the fatal error about, the output successful but achieved in a previous run\"\u001b[m\n",
      "\u001b[36m@@ -48,7 +48,7 @@\u001b[m\n",
      "   },\u001b[m\n",
      "   {\u001b[m\n",
      "    \"cell_type\": \"code\",\u001b[m\n",
      "\u001b[31m-   \"execution_count\": 14,\u001b[m\n",
      "\u001b[32m+\u001b[m\u001b[32m   \"execution_count\": 2,\u001b[m\n",
      "    \"id\": \"2794641e\",\u001b[m\n",
      "    \"metadata\": {},\u001b[m\n",
      "    \"outputs\": [\u001b[m\n",
      "\u001b[36m@@ -67,7 +67,7 @@\u001b[m\n",
      "   },\u001b[m\n",
      "   {\u001b[m\n",
      "    \"cell_type\": \"code\",\u001b[m\n",
      "\u001b[31m-   \"execution_count\": 16,\u001b[m\n",
      "\u001b[32m+\u001b[m\u001b[32m   \"execution_count\": 3,\u001b[m\n",
      "    \"id\": \"368e8747\",\u001b[m\n",
      "    \"metadata\": {},\u001b[m\n",
      "    \"outputs\": [\u001b[m\n",
      "\u001b[36m@@ -109,8 +109,8 @@\u001b[m\n",
      "   },\u001b[m\n",
      "   {\u001b[m\n",
      "    \"cell_type\": \"code\",\u001b[m\n",
      "\u001b[31m-   \"execution_count\": 17,\u001b[m\n",
      "\u001b[31m-   \"id\": \"d46996d7\",\u001b[m\n",
      "\u001b[32m+\u001b[m\u001b[32m   \"execution_count\": 4,\u001b[m\n",
      "\u001b[32m+\u001b[m\u001b[32m   \"id\": \"cb5297ef\",\u001b[m\n",
      "    \"metadata\": {},\u001b[m\n",
      "    \"outputs\": [],\u001b[m\n",
      "    \"source\": [\u001b[m\n",
      "\u001b[36m@@ -119,7 +119,7 @@\u001b[m\n",
      "   },\u001b[m\n",
      "   {\u001b[m\n",
      "    \"cell_type\": \"markdown\",\u001b[m\n",
      "\u001b[31m-   \"id\": \"83851e0b\",\u001b[m\n",
      "\u001b[32m+\u001b[m\u001b[32m   \"id\": \"63d066ca\",\u001b[m\n",
      "    \"metadata\": {},\u001b[m\n",
      "    \"source\": [\u001b[m\n",
      "     \"Through the finder (on mac)  you can see the file structure of the .git file. I made some errors in git syntax which created wrongly named remote. Used this command and finder interface to delete the mislabeled remote.\"\u001b[m\n",
      "\u001b[36m@@ -127,7 +127,7 @@\u001b[m\n",
      "   },\u001b[m\n",
      "   {\u001b[m\n",
      "    \"cell_type\": \"code\",\u001b[m\n",
      "\u001b[31m-   \"execution_count\": 18,\u001b[m\n",
      "\u001b[32m+\u001b[m\u001b[32m   \"execution_count\": 5,\u001b[m\n",
      "    \"id\": \"5f034a83\",\u001b[m\n",
      "    \"metadata\": {},\u001b[m\n",
      "    \"outputs\": [\u001b[m\n",
      "\u001b[36m@@ -171,8 +171,8 @@\u001b[m\n",
      "   },\u001b[m\n",
      "   {\u001b[m\n",
      "    \"cell_type\": \"code\",\u001b[m\n",
      "\u001b[31m-   \"execution_count\": 23,\u001b[m\n",
      "\u001b[31m-   \"id\": \"c1ea716f\",\u001b[m\n",
      "\u001b[32m+\u001b[m\u001b[32m   \"execution_count\": 6,\u001b[m\n",
      "\u001b[32m+\u001b[m\u001b[32m   \"id\": \"8ba8e81c\",\u001b[m\n",
      "    \"metadata\": {},\u001b[m\n",
      "    \"outputs\": [\u001b[m\n",
      "     {\u001b[m\n",
      "\u001b[36m@@ -207,7 +207,7 @@\u001b[m\n",
      "   },\u001b[m\n",
      "   {\u001b[m\n",
      "    \"cell_type\": \"markdown\",\u001b[m\n",
      "\u001b[31m-   \"id\": \"e65fffe2\",\u001b[m\n",
      "\u001b[32m+\u001b[m\u001b[32m   \"id\": \"e4e4a408\",\u001b[m\n",
      "    \"metadata\": {},\u001b[m\n",
      "    \"source\": [\u001b[m\n",
      "     \"Git status shows that 'foo.txt is not present'\"\u001b[m\n",
      "\u001b[36m@@ -215,8 +215,8 @@\u001b[m\n",
      "   },\u001b[m\n",
      "   {\u001b[m\n",
      "    \"cell_type\": \"code\",\u001b[m\n",
      "\u001b[31m-   \"execution_count\": 26,\u001b[m\n",
      "\u001b[31m-   \"id\": \"b2c9cb1d\",\u001b[m\n",
      "\u001b[32m+\u001b[m\u001b[32m   \"execution_count\": 7,\u001b[m\n",
      "\u001b[32m+\u001b[m\u001b[32m   \"id\": \"76c8b419\",\u001b[m\n",
      "    \"metadata\": {},\u001b[m\n",
      "    \"outputs\": [\u001b[m\n",
      "     {\u001b[m\n",
      "\u001b[36m@@ -243,7 +243,7 @@\u001b[m\n",
      "   },\u001b[m\n",
      "   {\u001b[m\n",
      "    \"cell_type\": \"markdown\",\u001b[m\n",
      "\u001b[31m-   \"id\": \"21da66d3\",\u001b[m\n",
      "\u001b[32m+\u001b[m\u001b[32m   \"id\": \"ea945525\",\u001b[m\n",
      "    \"metadata\": {},\u001b[m\n",
      "    \"source\": [\u001b[m\n",
      "     \"However, foo.txt is present, perhaps git does not recognize .txt? I will continue with this .ipynb file\"\u001b[m\n",
      "\u001b[36m@@ -251,52 +251,72 @@\u001b[m\n",
      "   },\u001b[m\n",
      "   {\u001b[m\n",
      "    \"cell_type\": \"code\",\u001b[m\n",
      "\u001b[31m-   \"execution_count\": null,\u001b[m\n",
      "\u001b[31m-   \"id\": \"546ad1ce\",\u001b[m\n",
      "\u001b[32m+\u001b[m\u001b[32m   \"execution_count\": 8,\u001b[m\n",
      "\u001b[32m+\u001b[m\u001b[32m   \"id\": \"cfc953f1\",\u001b[m\n",
      "    \"metadata\": {},\u001b[m\n",
      "\u001b[31m-   \"outputs\": [],\u001b[m\n",
      "\u001b[32m+\u001b[m\u001b[32m   \"outputs\": [\u001b[m\n",
      "\u001b[32m+\u001b[m\u001b[32m    {\u001b[m\n",
      "\u001b[32m+\u001b[m\u001b[32m     \"name\": \"stdout\",\u001b[m\n",
      "\u001b[32m+\u001b[m\u001b[32m     \"output_type\": \"stream\",\u001b[m\n",
      "\u001b[32m+\u001b[m\u001b[32m     \"text\": [\u001b[m\n",
      "\u001b[32m+\u001b[m\u001b[32m      \"[main 55122a7] organizing\\r\\n\",\u001b[m\n",
      "\u001b[32m+\u001b[m\u001b[32m      \" 1 file changed, 75 insertions(+), 52 deletions(-)\\r\\n\"\u001b[m\n",
      "\u001b[32m+\u001b[m\u001b[32m     ]\u001b[m\n",
      "\u001b[32m+\u001b[m\u001b[32m    }\u001b[m\n",
      "\u001b[32m+\u001b[m\u001b[32m   ],\u001b[m\n",
      "    \"source\": [\u001b[m\n",
      "     \"!git commit -m \\\"organizing\\\" #use -m to add a message\"\u001b[m\n",
      "    ]\u001b[m\n",
      "   },\u001b[m\n",
      "   {\u001b[m\n",
      "    \"cell_type\": \"code\",\u001b[m\n",
      "\u001b[31m-   \"execution_count\": null,\u001b[m\n",
      "\u001b[32m+\u001b[m\u001b[32m   \"execution_count\": 46,\u001b[m\n",
      "    \"id\": \"d0c6a0f6\",\u001b[m\n",
      "    \"metadata\": {},\u001b[m\n",
      "\u001b[31m-   \"outputs\": [],\u001b[m\n",
      "\u001b[32m+\u001b[m\u001b[32m   \"outputs\": [\u001b[m\n",
      "\u001b[32m+\u001b[m\u001b[32m    {\u001b[m\n",
      "\u001b[32m+\u001b[m\u001b[32m     \"name\": \"stdout\",\u001b[m\n",
      "\u001b[32m+\u001b[m\u001b[32m     \"output_type\": \"stream\",\u001b[m\n",
      "\u001b[32m+\u001b[m\u001b[32m     \"text\": [\u001b[m\n",
      "\u001b[32m+\u001b[m\u001b[32m      \"fatal: remote origin already exists.\\r\\n\"\u001b[m\n",
      "\u001b[32m+\u001b[m\u001b[32m     ]\u001b[m\n",
      "\u001b[32m+\u001b[m\u001b[32m    }\u001b[m\n",
      "\u001b[32m+\u001b[m\u001b[32m   ],\u001b[m\n",
      "    \"source\": [\u001b[m\n",
      "     \"#attempting to connect my new github repo remotely\\n\",\u001b[m\n",
      "     \"!git remote add origin https://github.com/ghan8/UVAMDS.git \"\u001b[m\n",
      "    ]\u001b[m\n",
      "   },\u001b[m\n",
      "   {\u001b[m\n",
      "\u001b[31m-   \"cell_type\": \"markdown\",\u001b[m\n",
      "\u001b[31m-   \"id\": \"6607beb1\",\u001b[m\n",
      "\u001b[32m+\u001b[m\u001b[32m   \"cell_type\": \"code\",\u001b[m\n",
      "\u001b[32m+\u001b[m\u001b[32m   \"execution_count\": 47,\u001b[m\n",
      "\u001b[32m+\u001b[m\u001b[32m   \"id\": \"74061d84\",\u001b[m\n",
      "    \"metadata\": {},\u001b[m\n",
      "\u001b[32m+\u001b[m\u001b[32m   \"outputs\": [\u001b[m\n",
      "\u001b[32m+\u001b[m\u001b[32m    {\u001b[m\n",
      "\u001b[32m+\u001b[m\u001b[32m     \"name\": \"stdout\",\u001b[m\n",
      "\u001b[32m+\u001b[m\u001b[32m     \"output_type\": \"stream\",\u001b[m\n",
      "\u001b[32m+\u001b[m\u001b[32m     \"text\": [\u001b[m\n",
      "\u001b[32m+\u001b[m\u001b[32m      \"origin\\thttps://github.com/ghan8/UVAMDS.git (fetch)\\r\\n\",\u001b[m\n",
      "\u001b[32m+\u001b[m\u001b[32m      \"origin\\thttps://github.com/ghan8/UVAMDS.git (push)\\r\\n\"\u001b[m\n",
      "\u001b[32m+\u001b[m\u001b[32m     ]\u001b[m\n",
      "\u001b[32m+\u001b[m\u001b[32m    }\u001b[m\n",
      "\u001b[32m+\u001b[m\u001b[32m   ],\u001b[m\n",
      "    \"source\": [\u001b[m\n",
      "\u001b[31m-    \"!git remote -v\"\u001b[m\n",
      "\u001b[32m+\u001b[m\u001b[32m    \"!git remote -v \"\u001b[m\n",
      "    ]\u001b[m\n",
      "   },\u001b[m\n",
      "   {\u001b[m\n",
      "\u001b[31m-   \"cell_type\": \"code\",\u001b[m\n",
      "\u001b[31m-   \"execution_count\": null,\u001b[m\n",
      "\u001b[31m-   \"id\": \"d24fccf7\",\u001b[m\n",
      "\u001b[31m-   \"metadata\": {},\u001b[m\n",
      "\u001b[31m-   \"outputs\": [],\u001b[m\n",
      "\u001b[31m-   \"source\": []\u001b[m\n",
      "\u001b[31m-  },\u001b[m\n",
      "\u001b[31m-  {\u001b[m\n",
      "\u001b[31m-   \"cell_type\": \"code\",\u001b[m\n",
      "\u001b[31m-   \"execution_count\": null,\u001b[m\n",
      "\u001b[31m-   \"id\": \"99ef4435\",\u001b[m\n",
      "\u001b[32m+\u001b[m\u001b[32m   \"cell_type\": \"markdown\",\u001b[m\n",
      "\u001b[32m+\u001b[m\u001b[32m   \"id\": \"0840f4fc\",\u001b[m\n",
      "    \"metadata\": {},\u001b[m\n",
      "\u001b[31m-   \"outputs\": [],\u001b[m\n",
      "\u001b[31m-   \"source\": []\u001b[m\n",
      "\u001b[32m+\u001b[m\u001b[32m   \"source\": [\u001b[m\n",
      "\u001b[32m+\u001b[m\u001b[32m    \"Origin is the name of my remote location.\"\u001b[m\n",
      "\u001b[32m+\u001b[m\u001b[32m   ]\u001b[m\n",
      "   },\u001b[m\n",
      "   {\u001b[m\n",
      "    \"cell_type\": \"code\",\u001b[m\n",
      "\u001b[31m-   \"execution_count\": 6,\u001b[m\n",
      "\u001b[32m+\u001b[m\u001b[32m   \"execution_count\": 48,\u001b[m\n",
      "    \"id\": \"b3eee014\",\u001b[m\n",
      "    \"metadata\": {},\u001b[m\n",
      "    \"outputs\": [\u001b[m\n",
      "\u001b[36m@@ -304,16 +324,15 @@\u001b[m\n",
      "      \"name\": \"stdout\",\u001b[m\n",
      "      \"output_type\": \"stream\",\u001b[m\n",
      "      \"text\": [\u001b[m\n",
      "\u001b[31m-      \"fatal: The upstream branch of your current branch does not match\\r\\n\",\u001b[m\n",
      "\u001b[31m-      \"the name of your current branch.  To push to the upstream branch\\r\\n\",\u001b[m\n",
      "\u001b[31m-      \"on the remote, use\\r\\n\",\u001b[m\n",
      "\u001b[31m-      \"\\r\\n\",\u001b[m\n",
      "\u001b[31m-      \"    git push https://github.com/ghan8/UVAMDS.git HEAD:master\\r\\n\",\u001b[m\n",
      "\u001b[31m-      \"\\r\\n\",\u001b[m\n",
      "\u001b[31m-      \"To push to the branch of the same name on the remote, use\\r\\n\",\u001b[m\n",
      "\u001b[31m-      \"\\r\\n\",\u001b[m\n",
      "\u001b[31m-      \"    git push https://github.com/ghan8/UVAMDS.git HEAD\\r\\n\",\u001b[m\n",
      "\u001b[31m-      \"\\r\\n\"\u001b[m\n",
      "\u001b[32m+\u001b[m\u001b[32m      \"\\u001b[KEnumerating objects: 1, done.\\n\",\u001b[m\n",
      "\u001b[32m+\u001b[m\u001b[32m      \"\\u001b[KCounting objects: 100% (1/1), done.\\n\",\u001b[m\n",
      "\u001b[32m+\u001b[m\u001b[32m      \"\\u001b[KWriting objects: 100% (1/1), 212 bytes | 212.00 KiB/s, done.\\n\",\u001b[m\n",
      "\u001b[32m+\u001b[m\u001b[32m      \"Total 1 (delta 0), reused 0 (delta 0)\\n\",\u001b[m\n",
      "\u001b[32m+\u001b[m\u001b[32m      \"To https://github.com/ghan8/UVAMDS.git\\n\",\u001b[m\n",
      "\u001b[32m+\u001b[m\u001b[32m      \"   1fcc8b4..5fc8d8d  main -> main\\n\",\u001b[m\n",
      "\u001b[32m+\u001b[m\u001b[32m      \"warning: branch.main.remote has multiple values\\n\",\u001b[m\n",
      "\u001b[32m+\u001b[m\u001b[32m      \"warning: branch.main.merge has multiple values\\n\",\u001b[m\n",
      "\u001b[32m+\u001b[m\u001b[32m      \"Branch 'main' set up to track remote branch 'main' from 'https://github.com/ghan8/UVAMDS.git'.\\n\"\u001b[m\n",
      "      ]\u001b[m\n",
      "     }\u001b[m\n",
      "    ],\u001b[m\n",
      "\u001b[36m@@ -321,12 +340,21 @@\u001b[m\n",
      "     \"!git push --set-upstream https://github.com/ghan8/UVAMDS.git \\n\",\u001b[m\n",
      "     \"    #This feature does not seem to work within the notebook\\n\",\u001b[m\n",
      "     \"    #however, did have success in connecting with personal access token in terminal\\n\",\u001b[m\n",
      "\u001b[31m-    \"    #confirmed by fork present on ghan8 git page.\"\u001b[m\n",
      "\u001b[32m+\u001b[m\u001b[32m    \"    #confirmed by fork present on ghan8 git page.\\n\",\u001b[m\n",
      "\u001b[32m+\u001b[m\u001b[32m    \"    #this is required for establishing connection to git page. \"\u001b[m\n",
      "    ]\u001b[m\n",
      "   },\u001b[m\n",
      "   {\u001b[m\n",
      "    \"cell_type\": \"code\",\u001b[m\n",
      "\u001b[31m-   \"execution_count\": 8,\u001b[m\n",
      "\u001b[32m+\u001b[m\u001b[32m   \"execution_count\": null,\u001b[m\n",
      "\u001b[32m+\u001b[m\u001b[32m   \"id\": \"99ef4435\",\u001b[m\n",
      "\u001b[32m+\u001b[m\u001b[32m   \"metadata\": {},\u001b[m\n",
      "\u001b[32m+\u001b[m\u001b[32m   \"outputs\": [],\u001b[m\n",
      "\u001b[32m+\u001b[m\u001b[32m   \"source\": []\u001b[m\n",
      "\u001b[32m+\u001b[m\u001b[32m  },\u001b[m\n",
      "\u001b[32m+\u001b[m\u001b[32m  {\u001b[m\n",
      "\u001b[32m+\u001b[m\u001b[32m   \"cell_type\": \"code\",\u001b[m\n",
      "\u001b[32m+\u001b[m\u001b[32m   \"execution_count\": 12,\u001b[m\n",
      "    \"id\": \"2760ef8b\",\u001b[m\n",
      "    \"metadata\": {},\u001b[m\n",
      "    \"outputs\": [\u001b[m\n",
      "\u001b[36m@@ -334,15 +362,15 @@\u001b[m\n",
      "      \"name\": \"stdout\",\u001b[m\n",
      "      \"output_type\": \"stream\",\u001b[m\n",
      "      \"text\": [\u001b[m\n",
      "\u001b[31m-      \"\\u001b[KEnumerating objects: 7, done.\\n\",\u001b[m\n",
      "\u001b[31m-      \"\\u001b[KCounting objects: 100% (7/7), done.\\n\",\u001b[m\n",
      "\u001b[32m+\u001b[m\u001b[32m      \"\\u001b[KEnumerating objects: 8, done.\\n\",\u001b[m\n",
      "\u001b[32m+\u001b[m\u001b[32m      \"\\u001b[KCounting objects: 100% (8/8), done.\\n\",\u001b[m\n",
      "       \"Delta compression using up to 4 threads\\n\",\u001b[m\n",
      "\u001b[31m-      \"\\u001b[KCompressing objects: 100% (5/5), done.\\n\",\u001b[m\n",
      "\u001b[31m-      \"\\u001b[KWriting objects: 100% (5/5), 4.22 KiB | 4.22 MiB/s, done.\\n\",\u001b[m\n",
      "\u001b[31m-      \"Total 5 (delta 1), reused 0 (delta 0)\\n\",\u001b[m\n",
      "\u001b[31m-      \"remote: Resolving deltas: 100% (1/1), done.\\u001b[K\\n\",\u001b[m\n",
      "\u001b[32m+\u001b[m\u001b[32m      \"\\u001b[KCompressing objects: 100% (6/6), done.\\n\",\u001b[m\n",
      "\u001b[32m+\u001b[m\u001b[32m      \"\\u001b[KWriting objects: 100% (6/6), 3.06 KiB | 782.00 KiB/s, done.\\n\",\u001b[m\n",
      "\u001b[32m+\u001b[m\u001b[32m      \"Total 6 (delta 4), reused 0 (delta 0)\\n\",\u001b[m\n",
      "\u001b[32m+\u001b[m\u001b[32m      \"remote: Resolving deltas: 100% (4/4), completed with 2 local objects.\\u001b[K\\n\",\u001b[m\n",
      "       \"To https://github.com/ghan8/UVAMDS.git\\n\",\u001b[m\n",
      "\u001b[31m-      \"   48f4607..4ffb408  HEAD -> master\\n\"\u001b[m\n",
      "\u001b[32m+\u001b[m\u001b[32m      \"   4ffb408..55122a7  HEAD -> master\\n\"\u001b[m\n",
      "      ]\u001b[m\n",
      "     }\u001b[m\n",
      "    ],\u001b[m\n",
      "\u001b[36m@@ -353,28 +381,25 @@\u001b[m\n",
      "   },\u001b[m\n",
      "   {\u001b[m\n",
      "    \"cell_type\": \"code\",\u001b[m\n",
      "\u001b[31m-   \"execution_count\": 9,\u001b[m\n",
      "\u001b[31m-   \"id\": \"3c27b9b4\",\u001b[m\n",
      "\u001b[32m+\u001b[m\u001b[32m   \"execution_count\": 13,\u001b[m\n",
      "\u001b[32m+\u001b[m\u001b[32m   \"id\": \"f6f4ff5e\",\u001b[m\n",
      "    \"metadata\": {},\u001b[m\n",
      "    \"outputs\": [\u001b[m\n",
      "     {\u001b[m\n",
      "      \"name\": \"stdout\",\u001b[m\n",
      "      \"output_type\": \"stream\",\u001b[m\n",
      "      \"text\": [\u001b[m\n",
      "\u001b[31m-      \"error: pathspec 'master' did not match any file(s) known to git\\n\",\u001b[m\n",
      "\u001b[31m-      \"\\u001b[33mhint: 'master' matched more than one remote tracking branch.\\u001b[m\\n\",\u001b[m\n",
      "\u001b[31m-      \"\\u001b[33mhint: We found 2 remotes with a reference that matched. So we fell back\\u001b[m\\n\",\u001b[m\n",
      "\u001b[31m-      \"\\u001b[33mhint: on trying to resolve the argument as a path, but failed there too!\\u001b[m\\n\",\u001b[m\n",
      "\u001b[31m-      \"\\u001b[33mhint: \\u001b[m\\n\",\u001b[m\n",
      "\u001b[31m-      \"\\u001b[33mhint: If you meant to check out a remote tracking branch on, e.g. 'origin',\\u001b[m\\n\",\u001b[m\n",
      "\u001b[31m-      \"\\u001b[33mhint: you can do so by fully qualifying the name with the --track option:\\u001b[m\\n\",\u001b[m\n",
      "\u001b[31m-      \"\\u001b[33mhint: \\u001b[m\\n\",\u001b[m\n",
      "\u001b[31m-      \"\\u001b[33mhint:     git checkout --track origin/<name>\\u001b[m\\n\",\u001b[m\n",
      "\u001b[31m-      \"\\u001b[33mhint: \\u001b[m\\n\",\u001b[m\n",
      "\u001b[31m-      \"\\u001b[33mhint: If you'd like to always have checkouts of an ambiguous <name> prefer\\u001b[m\\n\",\u001b[m\n",
      "\u001b[31m-      \"\\u001b[33mhint: one remote, e.g. the 'origin' remote, consider setting\\u001b[m\\n\",\u001b[m\n",
      "\u001b[31m-      \"\\u001b[33mhint: checkout.defaultRemote=origin in your config.\\u001b[m\\n\",\u001b[m\n",
      "\u001b[31m-      \"Already up to date.\\n\"\u001b[m\n",
      "\u001b[32m+\u001b[m\u001b[32m      \"Branch 'master' set up to track remote branch 'master' from 'origin'.\\n\",\u001b[m\n",
      "\u001b[32m+\u001b[m\u001b[32m      \"Switched to a new branch 'master'\\n\",\u001b[m\n",
      "\u001b[32m+\u001b[m\u001b[32m      \"Updating 48f4607..55122a7\\n\",\u001b[m\n",
      "\u001b[32m+\u001b[m\u001b[32m      \"Fast-forward\\n\",\u001b[m\n",
      "\u001b[32m+\u001b[m\u001b[32m      \" Git Tutorial CLI Fundamentals.ipynb | 901 \\u001b[32m++++++++++++++++++++++++++++++++++++\\u001b[m\\n\",\u001b[m\n",
      "\u001b[32m+\u001b[m\u001b[32m      \" LICENSE                             |  21 \\u001b[32m+\\u001b[m\\n\",\u001b[m\n",
      "\u001b[32m+\u001b[m\u001b[32m      \" README.md                           |   2 \\u001b[32m+\\u001b[m\\n\",\u001b[m\n",
      "\u001b[32m+\u001b[m\u001b[32m      \" 3 files changed, 924 insertions(+)\\n\",\u001b[m\n",
      "\u001b[32m+\u001b[m\u001b[32m      \" create mode 100644 Git Tutorial CLI Fundamentals.ipynb\\n\",\u001b[m\n",
      "\u001b[32m+\u001b[m\u001b[32m      \" create mode 100644 LICENSE\\n\",\u001b[m\n",
      "\u001b[32m+\u001b[m\u001b[32m      \" create mode 100644 README.md\\n\"\u001b[m\n",
      "      ]\u001b[m\n",
      "     }\u001b[m\n",
      "    ],\u001b[m\n",
      "\u001b[36m@@ -386,7 +411,7 @@\u001b[m\n",
      "   },\u001b[m\n",
      "   {\u001b[m\n",
      "    \"cell_type\": \"code\",\u001b[m\n",
      "\u001b[31m-   \"execution_count\": 10,\u001b[m\n",
      "\u001b[32m+\u001b[m\u001b[32m   \"execution_count\": 14,\u001b[m\n",
      "    \"id\": \"acc34e1d\",\u001b[m\n",
      "    \"metadata\": {},\u001b[m\n",
      "    \"outputs\": [\u001b[m\n",
      "\u001b[36m@@ -402,13 +427,11 @@\u001b[m\n",
      "      ]\u001b[m\n",
      "     }\u001b[m\n",
      "    ],\u001b[m\n",
      "\u001b[31m-   \"source\": [\u001b[m\n",
      "\u001b[31m-    \"!git pull main\"\u001b[m\n",
      "\u001b[31m-   ]\u001b[m\n",
      "\u001b[32m+\u001b[m\u001b[32m   \"source\": []\u001b[m\n",
      "   },\u001b[m\n",
      "   {\u001b[m\n",
      "    \"cell_type\": \"code\",\u001b[m\n",
      "\u001b[31m-   \"execution_count\": 4,\u001b[m\n",
      "\u001b[32m+\u001b[m\u001b[32m   \"execution_count\": 15,\u001b[m\n",
      "    \"id\": \"7cefffa2\",\u001b[m\n",
      "    \"metadata\": {\u001b[m\n",
      "     \"scrolled\": true\u001b[m\n",
      "\u001b[36m@@ -418,9 +441,21 @@\u001b[m\n",
      "      \"name\": \"stdout\",\u001b[m\n",
      "      \"output_type\": \"stream\",\u001b[m\n",
      "      \"text\": [\u001b[m\n",
      "\u001b[31m-      \"[main 4ffb408] added tech bootcamp exercise troubleshooting\\r\\n\",\u001b[m\n",
      "\u001b[31m-      \" 1 file changed, 665 insertions(+)\\r\\n\",\u001b[m\n",
      "\u001b[31m-      \" create mode 100644 Git Tutorial CLI Fundamentals.ipynb\\r\\n\"\u001b[m\n",
      "\u001b[32m+\u001b[m\u001b[32m      \"On branch master\\r\\n\",\u001b[m\n",
      "\u001b[32m+\u001b[m\u001b[32m      \"Your branch is ahead of 'origin/master' by 5 commits.\\r\\n\",\u001b[m\n",
      "\u001b[32m+\u001b[m\u001b[32m      \"  (use \\\"git push\\\" to publish your local commits)\\r\\n\",\u001b[m\n",
      "\u001b[32m+\u001b[m\u001b[32m      \"\\r\\n\",\u001b[m\n",
      "\u001b[32m+\u001b[m\u001b[32m      \"Untracked files:\\r\\n\",\u001b[m\n",
      "\u001b[32m+\u001b[m\u001b[32m      \"\\t\\u001b[31m.ipynb_checkpoints/\\u001b[m\\r\\n\",\u001b[m\n",
      "\u001b[32m+\u001b[m\u001b[32m      \"\\t\\u001b[31mConflict Data Project/\\u001b[m\\r\\n\",\u001b[m\n",
      "\u001b[32m+\u001b[m\u001b[32m      \"\\t\\u001b[31mImporting Data in Python - Datacamp.py\\u001b[m\\r\\n\",\u001b[m\n",
      "\u001b[32m+\u001b[m\u001b[32m      \"\\t\\u001b[31mIntermediate Python - Datacamp.py\\u001b[m\\r\\n\",\u001b[m\n",
      "\u001b[32m+\u001b[m\u001b[32m      \"\\t\\u001b[31mMonte Carlo Simulation.ipynb\\u001b[m\\r\\n\",\u001b[m\n",
      "\u001b[32m+\u001b[m\u001b[32m      \"\\t\\u001b[31mPython Data Science Toolbox - Datacamp.ipynb\\u001b[m\\r\\n\",\u001b[m\n",
      "\u001b[32m+\u001b[m\u001b[32m      \"\\t\\u001b[31mUsed-Car-Data/\\u001b[m\\r\\n\",\u001b[m\n",
      "\u001b[32m+\u001b[m\u001b[32m      \"\\t\\u001b[31mmarkdown-cheat-sheet.md\\u001b[m\\r\\n\",\u001b[m\n",
      "\u001b[32m+\u001b[m\u001b[32m      \"\\r\\n\",\u001b[m\n",
      "\u001b[32m+\u001b[m\u001b[32m      \"nothing added to commit but untracked files present\\r\\n\"\u001b[m\n",
      "      ]\u001b[m\n",
      "     }\u001b[m\n",
      "    ],\u001b[m\n",
      "\u001b[36m@@ -431,7 +466,7 @@\u001b[m\n",
      "   },\u001b[m\n",
      "   {\u001b[m\n",
      "    \"cell_type\": \"code\",\u001b[m\n",
      "\u001b[31m-   \"execution_count\": 11,\u001b[m\n",
      "\u001b[32m+\u001b[m\u001b[32m   \"execution_count\": 16,\u001b[m\n",
      "    \"id\": \"e90d5108\",\u001b[m\n",
      "    \"metadata\": {\u001b[m\n",
      "     \"scrolled\": true\u001b[m\n",
      "\u001b[36m@@ -441,7 +476,8 @@\u001b[m\n",
      "      \"name\": \"stdout\",\u001b[m\n",
      "      \"output_type\": \"stream\",\u001b[m\n",
      "      \"text\": [\u001b[m\n",
      "\u001b[31m-      \"* \\u001b[32mmain\\u001b[m\\r\\n\"\u001b[m\n",
      "\u001b[32m+\u001b[m\u001b[32m      \"  main\\u001b[m\\r\\n\",\u001b[m\n",
      "\u001b[32m+\u001b[m\u001b[32m      \"* \\u001b[32mmaster\\u001b[m\\r\\n\"\u001b[m\n",
      "      ]\u001b[m\n",
      "     }\u001b[m\n",
      "    ],\u001b[m\n",
      "\u001b[36m@@ -451,8 +487,8 @@\u001b[m\n",
      "   },\u001b[m\n",
      "   {\u001b[m\n",
      "    \"cell_type\": \"code\",\u001b[m\n",
      "\u001b[31m-   \"execution_count\": 12,\u001b[m\n",
      "\u001b[31m-   \"id\": \"fc72ef76\",\u001b[m\n",
      "\u001b[32m+\u001b[m\u001b[32m   \"execution_count\": 17,\u001b[m\n",
      "\u001b[32m+\u001b[m\u001b[32m   \"id\": \"8fdcaeb2\",\u001b[m\n",
      "    \"metadata\": {},\u001b[m\n",
      "    \"outputs\": [\u001b[m\n",
      "     {\u001b[m\n",
      "\u001b[36m@@ -472,19 +508,27 @@\u001b[m\n",
      "   },\u001b[m\n",
      "   {\u001b[m\n",
      "    \"cell_type\": \"code\",\u001b[m\n",
      "\u001b[31m-   \"execution_count\": null,\u001b[m\n",
      "\u001b[32m+\u001b[m\u001b[32m   \"execution_count\": 18,\u001b[m\n",
      "    \"id\": \"b8166a62\",\u001b[m\n",
      "    \"metadata\": {\u001b[m\n",
      "     \"scrolled\": false\u001b[m\n",
      "    },\u001b[m\n",
      "\u001b[31m-   \"outputs\": [],\u001b[m\n",
      "\u001b[32m+\u001b[m\u001b[32m   \"outputs\": [\u001b[m\n",
      "\u001b[32m+\u001b[m\u001b[32m    {\u001b[m\n",
      "\u001b[32m+\u001b[m\u001b[32m     \"name\": \"stdout\",\u001b[m\n",
      "\u001b[32m+\u001b[m\u001b[32m     \"output_type\": \"stream\",\u001b[m\n",
      "\u001b[32m+\u001b[m\u001b[32m     \"text\": [\u001b[m\n",
      "\u001b[32m+\u001b[m\u001b[32m      \"Everything up-to-date\\r\\n\"\u001b[m\n",
      "\u001b[32m+\u001b[m\u001b[32m     ]\u001b[m\n",
      "\u001b[32m+\u001b[m\u001b[32m    }\u001b[m\n",
      "\u001b[32m+\u001b[m\u001b[32m   ],\u001b[m\n",
      "    \"source\": [\u001b[m\n",
      "     \"!git push 'foo.txt' master\"\u001b[m\n",
      "    ]\u001b[m\n",
      "   },\u001b[m\n",
      "   {\u001b[m\n",
      "    \"cell_type\": \"code\",\u001b[m\n",
      "\u001b[31m-   \"execution_count\": 9,\u001b[m\n",
      "\u001b[32m+\u001b[m\u001b[32m   \"execution_count\": 19,\u001b[m\n",
      "    \"id\": \"dd318b04\",\u001b[m\n",
      "    \"metadata\": {},\u001b[m\n",
      "    \"outputs\": [\u001b[m\n",
      "\u001b[36m@@ -492,9 +536,11 @@\u001b[m\n",
      "      \"name\": \"stdout\",\u001b[m\n",
      "      \"output_type\": \"stream\",\u001b[m\n",
      "      \"text\": [\u001b[m\n",
      "\u001b[31m-      \"error: src refspec master does not match any\\r\\n\",\u001b[m\n",
      "\u001b[31m-      \"\\u001b[31merror: failed to push some refs to 'main'\\r\\n\",\u001b[m\n",
      "\u001b[31m-      \"\\u001b[m\"\u001b[m\n",
      "\u001b[32m+\u001b[m\u001b[32m      \"fatal: 'main' does not appear to be a git repository\\r\\n\",\u001b[m\n",
      "\u001b[32m+\u001b[m\u001b[32m      \"fatal: Could not read from remote repository.\\r\\n\",\u001b[m\n",
      "\u001b[32m+\u001b[m\u001b[32m      \"\\r\\n\",\u001b[m\n",
      "\u001b[32m+\u001b[m\u001b[32m      \"Please make sure you have the correct access rights\\r\\n\",\u001b[m\n",
      "\u001b[32m+\u001b[m\u001b[32m      \"and the repository exists.\\r\\n\"\u001b[m\n",
      "      ]\u001b[m\n",
      "     }\u001b[m\n",
      "    ],\u001b[m\n",
      "\u001b[36m@@ -504,8 +550,8 @@\u001b[m\n",
      "   },\u001b[m\n",
      "   {\u001b[m\n",
      "    \"cell_type\": \"code\",\u001b[m\n",
      "\u001b[31m-   \"execution_count\": 5,\u001b[m\n",
      "\u001b[31m-   \"id\": \"4bd7e678\",\u001b[m\n",
      "\u001b[32m+\u001b[m\u001b[32m   \"execution_count\": 20,\u001b[m\n",
      "\u001b[32m+\u001b[m\u001b[32m   \"id\": \"e3e8ec92\",\u001b[m\n",
      "    \"metadata\": {},\u001b[m\n",
      "    \"outputs\": [\u001b[m\n",
      "     {\u001b[m\n",
      "\u001b[36m@@ -514,7 +560,7 @@\u001b[m\n",
      "      \"text\": [\u001b[m\n",
      "       \"From https://github.com/ghan8/UVAMDS\\r\\n\",\u001b[m\n",
      "       \" * branch            master     -> FETCH_HEAD\\r\\n\",\u001b[m\n",
      "\u001b[31m-      \" * [new branch]      master     -> origin/master\\r\\n\",\u001b[m\n",
      "\u001b[32m+\u001b[m\u001b[32m      \"   48f4607..55122a7  master     -> origin/master\\r\\n\",\u001b[m\n",
      "       \"Already up to date.\\r\\n\"\u001b[m\n",
      "      ]\u001b[m\n",
      "     }\u001b[m\n",
      "\u001b[36m@@ -525,7 +571,7 @@\u001b[m\n",
      "   },\u001b[m\n",
      "   {\u001b[m\n",
      "    \"cell_type\": \"markdown\",\u001b[m\n",
      "\u001b[31m-   \"id\": \"a993034b\",\u001b[m\n",
      "\u001b[32m+\u001b[m\u001b[32m   \"id\": \"4cfe1b38\",\u001b[m\n",
      "    \"metadata\": {},\u001b[m\n",
      "    \"source\": [\u001b[m\n",
      "     \"# Command Line Actions\"\u001b[m\n",
      "\u001b[36m@@ -533,8 +579,8 @@\u001b[m\n",
      "   },\u001b[m\n",
      "   {\u001b[m\n",
      "    \"cell_type\": \"code\",\u001b[m\n",
      "\u001b[31m-   \"execution_count\": 1,\u001b[m\n",
      "\u001b[31m-   \"id\": \"37e6f309\",\u001b[m\n",
      "\u001b[32m+\u001b[m\u001b[32m   \"execution_count\": 21,\u001b[m\n",
      "\u001b[32m+\u001b[m\u001b[32m   \"id\": \"c38e54e7\",\u001b[m\n",
      "    \"metadata\": {},\u001b[m\n",
      "    \"outputs\": [\u001b[m\n",
      "     {\u001b[m\n",
      "\u001b[36m@@ -544,10 +590,11 @@\u001b[m\n",
      "       \"Reinitialized existing Git repository in /Users/gdhan/Documents/Data Science/Python/.git/\\n\",\u001b[m\n",
      "       \"fatal: pathspec 'Git' did not match any files\\n\",\u001b[m\n",
      "       \"On branch master\\n\",\u001b[m\n",
      "\u001b[32m+\u001b[m\u001b[32m      \"Your branch is up to date with 'origin/master'.\\n\",\u001b[m\n",
      "\u001b[32m+\u001b[m\u001b[32m      \"\\n\",\u001b[m\n",
      "       \"Untracked files:\\n\",\u001b[m\n",
      "       \"\\t\\u001b[31m.ipynb_checkpoints/\\u001b[m\\n\",\u001b[m\n",
      "       \"\\t\\u001b[31mConflict Data Project/\\u001b[m\\n\",\u001b[m\n",
      "\u001b[31m-      \"\\t\\u001b[31mGit Tutorial CLI Fundamentals.ipynb\\u001b[m\\n\",\u001b[m\n",
      "       \"\\t\\u001b[31mImporting Data in Python - Datacamp.py\\u001b[m\\n\",\u001b[m\n",
      "       \"\\t\\u001b[31mIntermediate Python - Datacamp.py\\u001b[m\\n\",\u001b[m\n",
      "       \"\\t\\u001b[31mMonte Carlo Simulation.ipynb\\u001b[m\\n\",\u001b[m\n",
      "\u001b[36m@@ -556,10 +603,7 @@\u001b[m\n",
      "       \"\\t\\u001b[31mmarkdown-cheat-sheet.md\\u001b[m\\n\",\u001b[m\n",
      "       \"\\n\",\u001b[m\n",
      "       \"nothing added to commit but untracked files present\\n\",\u001b[m\n",
      "\u001b[31m-      \"git: 'git' is not a git command. See 'git --help'.\\n\",\u001b[m\n",
      "\u001b[31m-      \"\\n\",\u001b[m\n",
      "\u001b[31m-      \"The most similar command is\\n\",\u001b[m\n",
      "\u001b[31m-      \"\\tinit\\n\",\u001b[m\n",
      "\u001b[32m+\u001b[m\u001b[32m      \"fatal: remote origin already exists.\\n\",\u001b[m\n",
      "       \"fatal: 'master' does not appear to be a git repository\\n\",\u001b[m\n",
      "       \"fatal: Could not read from remote repository.\\n\",\u001b[m\n",
      "       \"\\n\",\u001b[m\n",
      "\u001b[36m@@ -574,27 +618,22 @@\u001b[m\n",
      "     \"!git add Git Tutorial CLI Fundamentals.ipynb\\n\",\u001b[m\n",
      "     \"!git commit -m \\\"demo commit\\\"\\n\",\u001b[m\n",
      "     \"!git branch -M master\\n\",\u001b[m\n",
      "\u001b[31m-    \"!git git remote add origin https://github.com/ghan8/UVAMDS.git\\n\",\u001b[m\n",
      "\u001b[32m+\u001b[m\u001b[32m    \"!git remote add origin https://github.com/ghan8/UVAMDS.git\\n\",\u001b[m\n",
      "     \"!git push -u master\"\u001b[m\n",
      "    ]\u001b[m\n",
      "   },\u001b[m\n",
      "   {\u001b[m\n",
      "    \"cell_type\": \"code\",\u001b[m\n",
      "\u001b[31m-   \"execution_count\": 2,\u001b[m\n",
      "\u001b[31m-   \"id\": \"dd587748\",\u001b[m\n",
      "\u001b[32m+\u001b[m\u001b[32m   \"execution_count\": 22,\u001b[m\n",
      "\u001b[32m+\u001b[m\u001b[32m   \"id\": \"c949b77e\",\u001b[m\n",
      "    \"metadata\": {},\u001b[m\n",
      "    \"outputs\": [\u001b[m\n",
      "     {\u001b[m\n",
      "      \"name\": \"stdout\",\u001b[m\n",
      "      \"output_type\": \"stream\",\u001b[m\n",
      "      \"text\": [\u001b[m\n",
      "\u001b[31m-      \"To https://github.com/ghan8/UVAMDS.git\\r\\n\",\u001b[m\n",
      "\u001b[31m-      \" \\u001b[31m! [rejected]       \\u001b[m main -> main (non-fast-forward)\\r\\n\",\u001b[m\n",
      "\u001b[31m-      \"\\u001b[31merror: failed to push some refs to 'https://github.com/ghan8/UVAMDS.git'\\r\\n\",\u001b[m\n",
      "\u001b[31m-      \"\\u001b[m\\u001b[33mhint: Updates were rejected because the tip of your current branch is behind\\u001b[m\\r\\n\",\u001b[m\n",
      "\u001b[31m-      \"\\u001b[33mhint: its remote counterpart. Integrate the remote changes (e.g.\\u001b[m\\r\\n\",\u001b[m\n",
      "\u001b[31m-      \"\\u001b[33mhint: 'git pull ...') before pushing again.\\u001b[m\\r\\n\",\u001b[m\n",
      "\u001b[31m-      \"\\u001b[33mhint: See the 'Note about fast-forwards' in 'git push --help' for details.\\u001b[m\\r\\n\"\u001b[m\n",
      "\u001b[32m+\u001b[m\u001b[32m      \"fatal: remote origin already exists.\\n\",\u001b[m\n",
      "\u001b[32m+\u001b[m\u001b[32m      \"fatal: The current branch main has multiple upstream branches, refusing to push.\\n\"\u001b[m\n",
      "      ]\u001b[m\n",
      "     }\u001b[m\n",
      "    ],\u001b[m\n",
      "\u001b[36m@@ -607,17 +646,17 @@\u001b[m\n",
      "   },\u001b[m\n",
      "   {\u001b[m\n",
      "    \"cell_type\": \"code\",\u001b[m\n",
      "\u001b[31m-   \"execution_count\": 6,\u001b[m\n",
      "\u001b[31m-   \"id\": \"7624a708\",\u001b[m\n",
      "\u001b[32m+\u001b[m\u001b[32m   \"execution_count\": 31,\u001b[m\n",
      "\u001b[32m+\u001b[m\u001b[32m   \"id\": \"f5e6a7f3\",\u001b[m\n",
      "    \"metadata\": {},\u001b[m\n",
      "    \"outputs\": [\u001b[m\n",
      "     {\u001b[m\n",
      "      \"name\": \"stdout\",\u001b[m\n",
      "      \"output_type\": \"stream\",\u001b[m\n",
      "      \"text\": [\u001b[m\n",
      "\u001b[31m-      \"From https://github.com/ghan8/UVAMDS\\r\\n\",\u001b[m\n",
      "\u001b[31m-      \" * branch            master     -> FETCH_HEAD\\r\\n\",\u001b[m\n",
      "\u001b[31m-      \"Already up to date.\\r\\n\"\u001b[m\n",
      "\u001b[32m+\u001b[m\u001b[32m      \"error: You have not concluded your merge (MERGE_HEAD exists).\\r\\n\",\u001b[m\n",
      "\u001b[32m+\u001b[m\u001b[32m      \"\\u001b[33mhint: Please, commit your changes before merging.\\u001b[m\\r\\n\",\u001b[m\n",
      "\u001b[32m+\u001b[m\u001b[32m      \"fatal: Exiting because of unfinished merge.\\r\\n\"\u001b[m\n",
      "      ]\u001b[m\n",
      "     }\u001b[m\n",
      "    ],\u001b[m\n",
      "\u001b[36m@@ -868,13 +907,31 @@\u001b[m\n",
      "   },\u001b[m\n",
      "   {\u001b[m\n",
      "    \"cell_type\": \"code\",\u001b[m\n",
      "\u001b[31m-   \"execution_count\": null,\u001b[m\n",
      "\u001b[32m+\u001b[m\u001b[32m   \"execution_count\": 49,\u001b[m\n",
      "    \"id\": \"6f790042\",\u001b[m\n",
      "    \"metadata\": {},\u001b[m\n",
      "\u001b[31m-   \"outputs\": [],\u001b[m\n",
      "\u001b[32m+\u001b[m\u001b[32m   \"outputs\": [\u001b[m\n",
      "\u001b[32m+\u001b[m\u001b[32m    {\u001b[m\n",
      "\u001b[32m+\u001b[m\u001b[32m     \"name\": \"stdout\",\u001b[m\n",
      "\u001b[32m+\u001b[m\u001b[32m     \"output_type\": \"stream\",\u001b[m\n",
      "\u001b[32m+\u001b[m\u001b[32m     \"text\": [\u001b[m\n",
      "\u001b[32m+\u001b[m\u001b[32m      \"fatal: ambiguous argument 'rm': unknown revision or path not in the working tree.\\r\\n\",\u001b[m\n",
      "\u001b[32m+\u001b[m\u001b[32m      \"Use '--' to separate paths from revisions, like this:\\r\\n\",\u001b[m\n",
      "\u001b[32m+\u001b[m\u001b[32m      \"'git <command> [<revision>...] -- [<file>...]'\\r\\n\"\u001b[m\n",
      "\u001b[32m+\u001b[m\u001b[32m     ]\u001b[m\n",
      "\u001b[32m+\u001b[m\u001b[32m    }\u001b[m\n",
      "\u001b[32m+\u001b[m\u001b[32m   ],\u001b[m\n",
      "    \"source\": [\u001b[m\n",
      "\u001b[31m-    \"!git log\"\u001b[m\n",
      "\u001b[32m+\u001b[m\u001b[32m    \"!git log rm -a\"\u001b[m\n",
      "    ]\u001b[m\n",
      "\u001b[32m+\u001b[m\u001b[32m  },\u001b[m\n",
      "\u001b[32m+\u001b[m\u001b[32m  {\u001b[m\n",
      "\u001b[32m+\u001b[m\u001b[32m   \"cell_type\": \"code\",\u001b[m\n",
      "\u001b[32m+\u001b[m\u001b[32m   \"execution_count\": null,\u001b[m\n",
      "\u001b[32m+\u001b[m\u001b[32m   \"id\": \"f798b358\",\u001b[m\n",
      "\u001b[32m+\u001b[m\u001b[32m   \"metadata\": {},\u001b[m\n",
      "\u001b[32m+\u001b[m\u001b[32m   \"outputs\": [],\u001b[m\n",
      "\u001b[32m+\u001b[m\u001b[32m   \"source\": []\u001b[m\n",
      "   }\u001b[m\n",
      "  ],\u001b[m\n",
      "  \"metadata\": {\u001b[m\n"
     ]
    },
    {
     "name": "stdout",
     "output_type": "stream",
     "text": [
      "error: src refspec master does not match any\n",
      "\u001b[31merror: failed to push some refs to 'https://github.com/ghan8/UVAMDS.git'\n",
      "\u001b[mFrom https://github.com/ghan8/UVAMDS\n",
      " * branch            master     -> FETCH_HEAD\n",
      "Already up to date.\n"
     ]
    }
   ],
   "source": [
    "#make changes to code base, change a code and execute a commit and push to update the repo\n",
    "#!git diff #show changes to the code\n",
    "#!git status #confirm changes\n",
    "!git push origin master #push changes / commit to the master branch of the repository\n",
    "!git pull origin master #pulls any changes that have been since the last time the repo was updated"
   ]
  },
  {
   "cell_type": "code",
   "execution_count": null,
   "id": "6890b9c8",
   "metadata": {},
   "outputs": [],
   "source": [
    "#streamlined \n",
    "#create a branch to work on code in parallel\n",
    "#!git branch \"name\" #create a branch\n",
    "#!git checkout \"name\" #checkout the branch to make changes\n",
    "#make file changes\n",
    "#!git add \"file\" or -A #add changes to staging directory\n",
    "#!git commit -m \"my message\"\n",
    "#!git push -u origin \"branch name\" pushed branch to the remote repo\n",
    "#!git pull origin master\n",
    "#!git merge \"branch name\" #merge branch with master"
   ]
  },
  {
   "cell_type": "code",
   "execution_count": null,
   "id": "76c2ebe2",
   "metadata": {},
   "outputs": [],
   "source": [
    "# idea, can i streamline this to python code than can be embeded inline. \n",
    "def gitbranchandcheck(branch_name):\n",
    "    !git branch \"name\" #create a branch\n",
    "    !git checkout \"name\" #checkout the branch to make changes\n",
    "    Return(Branch checked out, make file changes)\n",
    "    #make file changes\n",
    "def gitcommitandmerge(branch_name):\n",
    "    !git add -A #add changes to staging directory\n",
    "    #user input about the message\n",
    "    !git commit -m \"my message\"\n",
    "    !git push -u origin branch_name pushed branch to the remote repo\n",
    "    !git pull origin master\n",
    "    !git merge branch_name #merge branch with master"
   ]
  },
  {
   "cell_type": "code",
   "execution_count": 49,
   "id": "6f790042",
   "metadata": {},
   "outputs": [
    {
     "name": "stdout",
     "output_type": "stream",
     "text": [
      "fatal: ambiguous argument 'rm': unknown revision or path not in the working tree.\r\n",
      "Use '--' to separate paths from revisions, like this:\r\n",
      "'git <command> [<revision>...] -- [<file>...]'\r\n"
     ]
    }
   ],
   "source": [
    "#!git log"
   ]
  },
  {
   "cell_type": "code",
   "execution_count": null,
   "id": "ee1f0f9f",
   "metadata": {},
   "outputs": [],
   "source": []
  }
 ],
 "metadata": {
  "kernelspec": {
   "display_name": "Python 3 (ipykernel)",
   "language": "python",
   "name": "python3"
  },
  "language_info": {
   "codemirror_mode": {
    "name": "ipython",
    "version": 3
   },
   "file_extension": ".py",
   "mimetype": "text/x-python",
   "name": "python",
   "nbconvert_exporter": "python",
   "pygments_lexer": "ipython3",
   "version": "3.9.12"
  }
 },
 "nbformat": 4,
 "nbformat_minor": 5
}
